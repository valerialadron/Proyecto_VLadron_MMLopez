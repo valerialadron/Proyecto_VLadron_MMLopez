{
 "cells": [
  {
   "cell_type": "markdown",
   "metadata": {},
   "source": [
    "<img style=\"float: left; margin: 30px 15px 15px 15px;\" src=\"https://pngimage.net/wp-content/uploads/2018/06/logo-iteso-png-5.png\" width=\"300\" height=\"500\" /> \n",
    "    \n",
    "    \n",
    "### <font color='navy'> Simulación de procesos financieros. \n",
    "\n",
    "**Nombres:** Valeria Ladrón de Guevara Vidrio y Martha Mariela López Molina.\n",
    "\n",
    "**Fecha:** 24 de junio del 2021.\n",
    "\n",
    "**Expediente** : if714513 y if721862.\n",
    "**Profesor:** Oscar David Jaramillo Zuluaga.\n",
    "    \n",
    "**Link Github**: https://github.com/valerialadron/Proyecto_VLadron_MMLopez\n",
    "\n",
    "# Proyecto TEMA-2"
   ]
  },
  {
   "cell_type": "markdown",
   "metadata": {},
   "source": [
    "\n",
    "<img src=\"covid.jpg\">\n"
   ]
  },
  {
   "cell_type": "markdown",
   "metadata": {},
   "source": [
    "___\n",
    "## 1. Entregable.\n",
    "\n",
    "\n",
    "### 1.1 COVID-19\n",
    "> En este proyecto se busca simular el comportamiento de Covid-19 en Estados Unidos a partir de la implementación de las vacunas.\n",
    "\n",
    "### 1.2 Objetivos.\n",
    "\n",
    "> #### 1.1 Objetivo general.\n",
    "> Simular el comportamiento del COVID-19 utilizando los datos de Estados Unidos , para observar el impacto que ha tenido la aplicación de la vacuna.\n",
    "> #### 1.2 Objetivos específicos\n",
    "1. Se comparará año 2020 y 2021 para observar impacto de vacunas estimando: \n",
    "    * Número de muertes \n",
    "    * Número de casos\n",
    "    * Total de personas hospitalizadas\n",
    "\n",
    "\n",
    "\n",
    "### 1.3 Definición del problema.\n",
    "> La COVID-19 es la enfermedad causada por el nuevo coronavirus conocido como SARS-CoV-2. La OMS tuvo noticia por primera vez de la existencia de este nuevo virus el 31 de diciembre de 2019, al ser informada de un grupo de casos de «neumonía vírica» que se habían declarado en Wuhan (República Popular China). La única solución a esta enfermedad sería la creación de una nueva vacuna.\n",
    "\n",
    "> Para 18 de febrero de este año, había al menos siete vacunas distintas que los países empezaron a administrar, dando  prioridad a las personas vulnerables.\n",
    "Además de que había más de 200 vacunas experimentales en desarrollo, de las cuales más de 60 estaban en fase clínica. \n",
    "\n",
    "> La OMS ha recalcado que estar vacunados no significa tirar por la borda las medidas preventivas y arriesgar nuestra salud y la de los demás, sobre todo porque todavía desconocemos el grado en que las vacunas protegen no solo contra la enfermedad sino también contra la infección y la transmisión.\n",
    "\n",
    "> De igual manera, ha comentado que la mayoría de los científicos prevén que las vacunas que se desarrollen contra la COVID-19 no tendrán una eficacia del 100%. Pero se trabaja para asegurar que toda vacuna aprobada tenga la máxima eficacia posible, de modo que consiga el mayor efecto en la pandemia.\n",
    "\n",
    "> Es por eso que nos preguntamos \"¿Qué impacto han tenido las vacunas hasta el día de hoy? ¿Qué efectividad han tenido?\", siendo esas preguntas las bases del desarrollo de este proyecto.\n",
    "\n",
    "### 1.4 Nodos y variables que se decidieron simular y porqué\n",
    "* Número de muertes por dia \n",
    "* Personas vacunadas por dia\n",
    "* Personas hospitalizadas por dia\n",
    "* Total de casos por dia\n",
    "\n",
    "### 1.5 Definición de hipótesis y supuestos.\n",
    "**Hipótesis**\n",
    "\n",
    "* Entre más vacunas aplicadas existan, menor serán total de muertes.\n",
    "* EUA tendrá menor cantidad de casos por día por las vacunas aplicadas.\n",
    "\n",
    "**Supuestos**\n",
    " \n",
    "* En los próximos días la probabilidad de distribución de los datos va a estar en función de los datos anteriores.\n",
    "\n",
    "\n",
    "\n",
    "\n",
    "### 1.6 Obtención de bases de datos\n",
    "https://ourworldindata.org/coronavirus\n",
    "\n",
    "\n",
    "\n"
   ]
  },
  {
   "cell_type": "markdown",
   "metadata": {},
   "source": [
    "<img src=\"diagrama.jpg\">"
   ]
  },
  {
   "cell_type": "code",
   "execution_count": 1,
   "metadata": {},
   "outputs": [],
   "source": [
    "#Paqueterias\n",
    "import pandas as pd\n",
    "import numpy as np\n",
    "import matplotlib.pyplot as plt\n",
    "import scipy.stats as st\n",
    "from sklearn.neighbors import KernelDensity\n",
    "from scipy.stats import loglaplace \n",
    "from scipy.stats.distributions import norm\n",
    "from sklearn.model_selection import GridSearchCV\n",
    "from scipy.stats import gaussian_kde\n",
    "from statsmodels.nonparametric.kernel_density import KDEMultivariate\n",
    "from statsmodels.nonparametric.kde import KDEUnivariate\n",
    "import statsmodels.api as sm \n",
    "import matplotlib\n",
    "from collections import defaultdict\n",
    "from time import time\n",
    "from sklearn.model_selection import GridSearchCV\n",
    "import statsmodels.api as sm\n",
    "from IPython.display import Markdown as md\n",
    "from scipy.stats import dweibull\n",
    "from scipy import optimize\n",
    "from scipy.stats import exponweib\n",
    "from scipy.stats import logistic\n",
    "from scipy.stats import dgamma\n",
    "from scipy.stats import triang\n",
    "from scipy.stats import laplace\n",
    "from fitter import Fitter\n",
    "%matplotlib inline\n",
    "import os\n",
    "import scipy.stats as st\n",
    "import seaborn as sns\n",
    "sns.set()\n",
    "import warnings\n",
    "warnings.filterwarnings('ignore')"
   ]
  },
  {
   "cell_type": "code",
   "execution_count": 2,
   "metadata": {
    "scrolled": true
   },
   "outputs": [
    {
     "data": {
      "text/html": [
       "<div>\n",
       "<style scoped>\n",
       "    .dataframe tbody tr th:only-of-type {\n",
       "        vertical-align: middle;\n",
       "    }\n",
       "\n",
       "    .dataframe tbody tr th {\n",
       "        vertical-align: top;\n",
       "    }\n",
       "\n",
       "    .dataframe thead th {\n",
       "        text-align: right;\n",
       "    }\n",
       "</style>\n",
       "<table border=\"1\" class=\"dataframe\">\n",
       "  <thead>\n",
       "    <tr style=\"text-align: right;\">\n",
       "      <th></th>\n",
       "      <th>iso_code</th>\n",
       "      <th>continent</th>\n",
       "      <th>location</th>\n",
       "      <th>total_cases</th>\n",
       "      <th>new_cases</th>\n",
       "      <th>new_cases_smoothed</th>\n",
       "      <th>total_deaths</th>\n",
       "      <th>new_deaths</th>\n",
       "      <th>new_deaths_smoothed</th>\n",
       "      <th>total_cases_per_million</th>\n",
       "      <th>...</th>\n",
       "      <th>extreme_poverty</th>\n",
       "      <th>cardiovasc_death_rate</th>\n",
       "      <th>diabetes_prevalence</th>\n",
       "      <th>female_smokers</th>\n",
       "      <th>male_smokers</th>\n",
       "      <th>handwashing_facilities</th>\n",
       "      <th>hospital_beds_per_thousand</th>\n",
       "      <th>life_expectancy</th>\n",
       "      <th>human_development_index</th>\n",
       "      <th>excess_mortality</th>\n",
       "    </tr>\n",
       "    <tr>\n",
       "      <th>date</th>\n",
       "      <th></th>\n",
       "      <th></th>\n",
       "      <th></th>\n",
       "      <th></th>\n",
       "      <th></th>\n",
       "      <th></th>\n",
       "      <th></th>\n",
       "      <th></th>\n",
       "      <th></th>\n",
       "      <th></th>\n",
       "      <th></th>\n",
       "      <th></th>\n",
       "      <th></th>\n",
       "      <th></th>\n",
       "      <th></th>\n",
       "      <th></th>\n",
       "      <th></th>\n",
       "      <th></th>\n",
       "      <th></th>\n",
       "      <th></th>\n",
       "      <th></th>\n",
       "    </tr>\n",
       "  </thead>\n",
       "  <tbody>\n",
       "    <tr>\n",
       "      <th>22/01/2020</th>\n",
       "      <td>USA</td>\n",
       "      <td>North America</td>\n",
       "      <td>United States</td>\n",
       "      <td>1.0</td>\n",
       "      <td>NaN</td>\n",
       "      <td>NaN</td>\n",
       "      <td>0.0</td>\n",
       "      <td>NaN</td>\n",
       "      <td>NaN</td>\n",
       "      <td>0.003</td>\n",
       "      <td>...</td>\n",
       "      <td>1.2</td>\n",
       "      <td>151.089</td>\n",
       "      <td>10.79</td>\n",
       "      <td>19.1</td>\n",
       "      <td>24.6</td>\n",
       "      <td>NaN</td>\n",
       "      <td>2.77</td>\n",
       "      <td>78.86</td>\n",
       "      <td>0.926</td>\n",
       "      <td>NaN</td>\n",
       "    </tr>\n",
       "    <tr>\n",
       "      <th>23/01/2020</th>\n",
       "      <td>USA</td>\n",
       "      <td>North America</td>\n",
       "      <td>United States</td>\n",
       "      <td>1.0</td>\n",
       "      <td>0.0</td>\n",
       "      <td>NaN</td>\n",
       "      <td>0.0</td>\n",
       "      <td>NaN</td>\n",
       "      <td>NaN</td>\n",
       "      <td>0.003</td>\n",
       "      <td>...</td>\n",
       "      <td>1.2</td>\n",
       "      <td>151.089</td>\n",
       "      <td>10.79</td>\n",
       "      <td>19.1</td>\n",
       "      <td>24.6</td>\n",
       "      <td>NaN</td>\n",
       "      <td>2.77</td>\n",
       "      <td>78.86</td>\n",
       "      <td>0.926</td>\n",
       "      <td>NaN</td>\n",
       "    </tr>\n",
       "    <tr>\n",
       "      <th>24/01/2020</th>\n",
       "      <td>USA</td>\n",
       "      <td>North America</td>\n",
       "      <td>United States</td>\n",
       "      <td>2.0</td>\n",
       "      <td>1.0</td>\n",
       "      <td>NaN</td>\n",
       "      <td>0.0</td>\n",
       "      <td>NaN</td>\n",
       "      <td>NaN</td>\n",
       "      <td>0.006</td>\n",
       "      <td>...</td>\n",
       "      <td>1.2</td>\n",
       "      <td>151.089</td>\n",
       "      <td>10.79</td>\n",
       "      <td>19.1</td>\n",
       "      <td>24.6</td>\n",
       "      <td>NaN</td>\n",
       "      <td>2.77</td>\n",
       "      <td>78.86</td>\n",
       "      <td>0.926</td>\n",
       "      <td>NaN</td>\n",
       "    </tr>\n",
       "    <tr>\n",
       "      <th>25/01/2020</th>\n",
       "      <td>USA</td>\n",
       "      <td>North America</td>\n",
       "      <td>United States</td>\n",
       "      <td>2.0</td>\n",
       "      <td>0.0</td>\n",
       "      <td>NaN</td>\n",
       "      <td>0.0</td>\n",
       "      <td>NaN</td>\n",
       "      <td>NaN</td>\n",
       "      <td>0.006</td>\n",
       "      <td>...</td>\n",
       "      <td>1.2</td>\n",
       "      <td>151.089</td>\n",
       "      <td>10.79</td>\n",
       "      <td>19.1</td>\n",
       "      <td>24.6</td>\n",
       "      <td>NaN</td>\n",
       "      <td>2.77</td>\n",
       "      <td>78.86</td>\n",
       "      <td>0.926</td>\n",
       "      <td>NaN</td>\n",
       "    </tr>\n",
       "    <tr>\n",
       "      <th>26/01/2020</th>\n",
       "      <td>USA</td>\n",
       "      <td>North America</td>\n",
       "      <td>United States</td>\n",
       "      <td>5.0</td>\n",
       "      <td>3.0</td>\n",
       "      <td>NaN</td>\n",
       "      <td>0.0</td>\n",
       "      <td>NaN</td>\n",
       "      <td>NaN</td>\n",
       "      <td>0.015</td>\n",
       "      <td>...</td>\n",
       "      <td>1.2</td>\n",
       "      <td>151.089</td>\n",
       "      <td>10.79</td>\n",
       "      <td>19.1</td>\n",
       "      <td>24.6</td>\n",
       "      <td>NaN</td>\n",
       "      <td>2.77</td>\n",
       "      <td>78.86</td>\n",
       "      <td>0.926</td>\n",
       "      <td>0.75</td>\n",
       "    </tr>\n",
       "  </tbody>\n",
       "</table>\n",
       "<p>5 rows × 59 columns</p>\n",
       "</div>"
      ],
      "text/plain": [
       "           iso_code      continent       location  total_cases  new_cases  \\\n",
       "date                                                                        \n",
       "22/01/2020      USA  North America  United States          1.0        NaN   \n",
       "23/01/2020      USA  North America  United States          1.0        0.0   \n",
       "24/01/2020      USA  North America  United States          2.0        1.0   \n",
       "25/01/2020      USA  North America  United States          2.0        0.0   \n",
       "26/01/2020      USA  North America  United States          5.0        3.0   \n",
       "\n",
       "            new_cases_smoothed  total_deaths  new_deaths  new_deaths_smoothed  \\\n",
       "date                                                                            \n",
       "22/01/2020                 NaN           0.0         NaN                  NaN   \n",
       "23/01/2020                 NaN           0.0         NaN                  NaN   \n",
       "24/01/2020                 NaN           0.0         NaN                  NaN   \n",
       "25/01/2020                 NaN           0.0         NaN                  NaN   \n",
       "26/01/2020                 NaN           0.0         NaN                  NaN   \n",
       "\n",
       "            total_cases_per_million  ...  extreme_poverty  \\\n",
       "date                                 ...                    \n",
       "22/01/2020                    0.003  ...              1.2   \n",
       "23/01/2020                    0.003  ...              1.2   \n",
       "24/01/2020                    0.006  ...              1.2   \n",
       "25/01/2020                    0.006  ...              1.2   \n",
       "26/01/2020                    0.015  ...              1.2   \n",
       "\n",
       "            cardiovasc_death_rate  diabetes_prevalence  female_smokers  \\\n",
       "date                                                                     \n",
       "22/01/2020                151.089                10.79            19.1   \n",
       "23/01/2020                151.089                10.79            19.1   \n",
       "24/01/2020                151.089                10.79            19.1   \n",
       "25/01/2020                151.089                10.79            19.1   \n",
       "26/01/2020                151.089                10.79            19.1   \n",
       "\n",
       "            male_smokers  handwashing_facilities  hospital_beds_per_thousand  \\\n",
       "date                                                                           \n",
       "22/01/2020          24.6                     NaN                        2.77   \n",
       "23/01/2020          24.6                     NaN                        2.77   \n",
       "24/01/2020          24.6                     NaN                        2.77   \n",
       "25/01/2020          24.6                     NaN                        2.77   \n",
       "26/01/2020          24.6                     NaN                        2.77   \n",
       "\n",
       "            life_expectancy  human_development_index  excess_mortality  \n",
       "date                                                                    \n",
       "22/01/2020            78.86                    0.926               NaN  \n",
       "23/01/2020            78.86                    0.926               NaN  \n",
       "24/01/2020            78.86                    0.926               NaN  \n",
       "25/01/2020            78.86                    0.926               NaN  \n",
       "26/01/2020            78.86                    0.926              0.75  \n",
       "\n",
       "[5 rows x 59 columns]"
      ]
     },
     "execution_count": 2,
     "metadata": {},
     "output_type": "execute_result"
    }
   ],
   "source": [
    "#Importando datos\n",
    "covid = pd.read_csv('covid.csv', encoding=\"utf-8\")\n",
    "data = covid[covid['location'] == 'United States']\n",
    "data = data.set_index(['date'])\n",
    "data.head()"
   ]
  },
  {
   "cell_type": "code",
   "execution_count": 3,
   "metadata": {},
   "outputs": [],
   "source": [
    "def log_int(data:'Datos a trabajar en DataFrame'):\n",
    "    '''\n",
    "    Esta función nos convierte los datos de una DataFrame en un array, además\n",
    "    de que les aplica logaritmos para eliminar el sesgo.\n",
    "    '''\n",
    "    datos = np.sort(np.log(np.array([int(data.iloc[i,0]) for i in range(len(data))])))\n",
    "    return datos"
   ]
  },
  {
   "cell_type": "code",
   "execution_count": 4,
   "metadata": {},
   "outputs": [],
   "source": [
    "def kde_statsmodels_m(x, x_grid, **kwargs):\n",
    "    \"\"\"Multivariate Kernel Density Estimation with Statsmodels\"\"\"\n",
    "    kde = KDEMultivariate(x, \n",
    "                          bw='cv_ml',  \n",
    "                          var_type='c', **kwargs)\n",
    "    return lambda x: kde.pdf([x]) "
   ]
  },
  {
   "cell_type": "code",
   "execution_count": 5,
   "metadata": {},
   "outputs": [],
   "source": [
    "def kde_statsmodels_u(x, x_grid, bandwidth, **kwargs):\n",
    "    \"\"\"Univariate Kernel Density Estimation with Statsmodels\"\"\"\n",
    "    kde = KDEUnivariate(x)\n",
    "    kde.fit(bw=bandwidth, **kwargs)\n",
    "    return lambda x: kde.evaluate(x)"
   ]
  },
  {
   "cell_type": "code",
   "execution_count": 6,
   "metadata": {},
   "outputs": [],
   "source": [
    "def kde_hist_f(datos:'Datos',\n",
    "              J1:'Bins histograma',\n",
    "              x:'Linspace'):\n",
    "    '''\n",
    "    Esta función nos regresa la función f obtenida por medio del KDE de Statsmodels multivariable \n",
    "    para ciertos datos. Además, permite ver el histograma de los datos junto con la función f encontrada\n",
    "    en una misma gráfica.\n",
    "    '''\n",
    "    \n",
    "    xx = x\n",
    "    f = kde_statsmodels_m(datos, xx)\n",
    "    \n",
    "    plt.hist(datos, bins = J1, density = True)\n",
    "    plt.plot(xx, f(xx), label = 'Función f')\n",
    "    plt.legend(loc = 'best')\n",
    "    plt.show()\n",
    "    \n",
    "    return f"
   ]
  },
  {
   "cell_type": "code",
   "execution_count": 7,
   "metadata": {},
   "outputs": [],
   "source": [
    "def kde_hist_f_u(datos:'Datos',\n",
    "                bandwidth:'Bandwidth',\n",
    "                J1:'Bins histograma',\n",
    "                x:'Linspace'):\n",
    "    '''\n",
    "    Esta función nos regresa la función f obtenida por medio del KDE de Statsmodels multivariable \n",
    "    para ciertos datos. Además, permite ver el histograma de los datos junto con la función f encontrada\n",
    "    en una misma gráfica.\n",
    "    '''\n",
    "    \n",
    "    xx = x\n",
    "    f = kde_statsmodels_u(datos, x, bandwidth)\n",
    "    \n",
    "    plt.hist(datos, bins = J1, density = True)\n",
    "    plt.plot(xx, f(xx), label = 'Función f')\n",
    "    plt.legend(loc = 'best')\n",
    "    plt.show()\n",
    "    \n",
    "    return f"
   ]
  },
  {
   "cell_type": "code",
   "execution_count": 8,
   "metadata": {},
   "outputs": [],
   "source": [
    "def get_bandwidth(x:'Datos', \n",
    "                 a:'Rango Inferior',\n",
    "                 b:'Rango Superior',\n",
    "                 div:'División del rango'):\n",
    "    grid = GridSearchCV(KernelDensity(),\n",
    "                    {'bandwidth': np.linspace(a, b, div)},\n",
    "                    cv=50) \n",
    "\n",
    "    grid.fit(x[:, None])\n",
    "    return grid.best_params_"
   ]
  },
  {
   "cell_type": "code",
   "execution_count": 9,
   "metadata": {},
   "outputs": [],
   "source": [
    "def Acep_rechazo_reducc_var(N:'número de aleatorias a generar (aproximado)',\n",
    "                 a:'rango inferior',\n",
    "                 b:'rango superior',\n",
    "                 f:'función objetivo a generar',\n",
    "                 t:'función que mayora a f',\n",
    "                 metodo:'función del método de reducción que se usará para generar variables aleatorias que evaluará el método de aceptación rechazo',\n",
    "                 vav:'número de variables aleatorias a las que se le aplicará el método elegido'):\n",
    "\n",
    "    '''\n",
    "    Esta función nos regresa N variables aleatorias de la distribución f dada usando el método de \n",
    "    aceptación y rechazo. Además, se aplica el método reducción de varianza elegido en los parámetros\n",
    "    al momento de generar las variables aleatorias R2. Se generarán variables aleatorias con reducción \n",
    "    de varianza las veces que sea necesario hasta llegar a los N valores especificados. \n",
    "    '''\n",
    "    puntos_aceptados = 0\n",
    "    j = 0\n",
    "    x = np.zeros(N)\n",
    "    while puntos_aceptados < N:\n",
    "        if j == 0:\n",
    "            R2_a = metodo(vav) # Si j es 0, genera nuevas aleatorias con el método elegido.\n",
    "        R2 = R2_a[j]           # Esta aleatorias con reducción de varianza se evalúan con aceptación rechazo.\n",
    "        R1 = np.random.uniform(a, b)\n",
    "        f_x = f(R1) \n",
    "        t_x = t(R1)\n",
    "        condition = R2 * t_x <= f_x\n",
    "        [plt.plot(R1,R2*t_x,'ob') if condition else plt.plot(R1,R2*t_x,'o')]           \n",
    "        if condition:\n",
    "            x[puntos_aceptados] = R1\n",
    "            puntos_aceptados += 1\n",
    "        else:\n",
    "            None\n",
    "        j += 1\n",
    "        if j == vav - 1: # Si aún no se llega a la N deseada, j se hace 0 y se vuelven a generar aleatorias con reducción de varianza.\n",
    "            j = 0        # Es decir, puede que con 1 set de v.a. con reducción se llegue a N o no, si no se llega, se genera otro set de v.a. con reducción.\n",
    "    plt.show()\n",
    "    \n",
    "    return x"
   ]
  },
  {
   "cell_type": "code",
   "execution_count": 10,
   "metadata": {},
   "outputs": [],
   "source": [
    "def generar_aleatorias_reducc_var(va:'Aleatorias a generar',\n",
    "                               f:'Función de distribución',\n",
    "                               v:'Valor máximo (aproximado) de la distribución',\n",
    "                               xx:'Valores de x a evaluar (linspace)',\n",
    "                               datos:'Datos sobre los cuales se generarán las aleatorias',\n",
    "                               metodo:'función que genera aleatorias con el método de reducción de varianza deseado',\n",
    "                               varv:'# de variables aleatorias a las que se le aplicará el método de reducción de varianza'):\n",
    "    '''\n",
    "    Esta función nos genera variables aleatorias con varianza reducida, especificando\n",
    "    el método de reducción de varianza a aplicar en los argumentos de la función, de una \n",
    "    distribución f dada aplicando el método de aceptación y rechazo. Se usa una constante\n",
    "    como función que mayora a f.\n",
    "    '''\n",
    "    \n",
    "    max_f = f(optimize.fmin(lambda x: -f(x), v, disp=False))\n",
    "    \n",
    "    t = lambda x: max_f  # Graficar la constante\n",
    "    t_2 = lambda x: max_f * np.ones([len(x)])\n",
    "    \n",
    "    # Gráficas de las funciones\n",
    "    plt.plot(xx,f(xx),label='t(x)') # Función f\n",
    "    plt.plot(xx,t_2(xx),label='t(x)') # Constante\n",
    "    plt.legend(loc = 'best')\n",
    "    \n",
    "    aleat = Acep_rechazo_reducc_var(va, np.amin(datos), np.amax(datos), f, t, metodo, varv)\n",
    "    \n",
    "    return aleat"
   ]
  },
  {
   "cell_type": "code",
   "execution_count": 11,
   "metadata": {},
   "outputs": [],
   "source": [
    "def estra_igualmente_espaciado(B:'Número de estratos'):\n",
    "    \"\"\"\n",
    "    Esta función genera variables aleatorias estratificadas de igual manera (con el mismo espacio).\n",
    "    \"\"\"\n",
    "    U2 = np.random.rand(B)\n",
    "    i = np.arange(0, B)\n",
    "    v = (U2 + i) / B # Estratificar\n",
    "    return v"
   ]
  },
  {
   "cell_type": "code",
   "execution_count": 12,
   "metadata": {},
   "outputs": [],
   "source": [
    "def int_conf(confianza:'Confianza',\n",
    "            datos:'Datos a sacar el intervalo'):\n",
    "    '''\n",
    "    Esta función nos regresa el intervalo de confianza y la media real de ciertos datos.\n",
    "    '''\n",
    "    \n",
    "    i_price = st.t.interval(confianza, len(datos)-1, loc=np.mean(datos), scale=st.sem(datos))\n",
    "\n",
    "    return i_price, np.mean(datos)"
   ]
  },
  {
   "cell_type": "code",
   "execution_count": 13,
   "metadata": {},
   "outputs": [],
   "source": [
    "def graficas_qq(datos:'Datos',\n",
    "               best:'Array 5 menores errores'):\n",
    "    '''\n",
    "    Esta función nos muestra las gráficas Q-Q de las 5 distribuciones elegidas.\n",
    "    '''\n",
    "    \n",
    "    fig, ax = plt.subplots(5, 1, figsize = [10 , 20])\n",
    "    fig.tight_layout(pad=3.0)\n",
    "\n",
    "    grap_1 = sm.qqplot(datos, dist=getattr(st, best[0]), line='q', fit=True, ax=ax[0])\n",
    "    ax[0].grid()\n",
    "    ax[0].set_title(best[0])\n",
    "\n",
    "    grap_2 = sm.qqplot(datos, dist=getattr(st, best[1]), line='q', fit=True, ax=ax[1])\n",
    "    ax[1].grid()\n",
    "    ax[1].set_title(best[1])\n",
    "\n",
    "    grap_3 = sm.qqplot(datos, dist=getattr(st, best[2]), line='q', fit=True, ax=ax[2])\n",
    "    ax[2].grid()\n",
    "    ax[2].set_title(best[2])\n",
    "\n",
    "    grap_4 = sm.qqplot(datos, dist=getattr(st, best[3]), line='q', fit=True, ax=ax[3])\n",
    "    ax[3].grid()\n",
    "    ax[3].set_title(best[3])\n",
    "\n",
    "    grap_5 = sm.qqplot(datos, dist=getattr(st, best[4]), line='q', fit=True, ax=ax[4])\n",
    "    ax[4].grid()\n",
    "    ax[4].set_title(best[4])\n",
    "\n",
    "    plt.show()"
   ]
  },
  {
   "cell_type": "code",
   "execution_count": 14,
   "metadata": {},
   "outputs": [],
   "source": [
    "def chi_cuadrada(best:'Nombre distribución',\n",
    "                datos:'Datos',\n",
    "                x:'x del histograma',\n",
    "                y:'y del histograma',\n",
    "                J1:'Bins del histograma',\n",
    "                conf:'Confianza'):\n",
    "    '''\n",
    "    Esta función realiza la prueba de chi cuadrada de una distribución dada\n",
    "    con respecto a ciertos datos y con cierta confianza.\n",
    "    '''\n",
    "        \n",
    "    param = getattr(st, best).fit(datos)\n",
    "    pi = getattr(st, best).pdf(x, *param)\n",
    "    \n",
    "    Ei = x*pi\n",
    "\n",
    "    x2 = np.sum(list(map(lambda Ei, obs_i:(obs_i - Ei)**2 / Ei, Ei, y)))\n",
    "    print('Valor de chi cuadrado teorico  = ', x2)\n",
    "\n",
    "    X2 = st.chisquare(y, Ei)\n",
    "    print('Valor de chi cuadrado librería = ', X2)\n",
    "\n",
    "    p = len(param) \n",
    "    m = J1-p-1 \n",
    "    \n",
    "    Chi_est = st.chi2.ppf(q=conf, df=m)\n",
    "    print('Estadístico de chi_cuadrado = ', Chi_est)\n",
    "    \n",
    "    print('La distribución analizada fue: ', best)"
   ]
  },
  {
   "cell_type": "code",
   "execution_count": 15,
   "metadata": {},
   "outputs": [],
   "source": [
    "def grafica_qq_1(datos:'Datos',\n",
    "                  name:'Nombre distribución'):\n",
    "    '''\n",
    "    Función que nos da la gráfica Q-Q de una distribución dada.\n",
    "    '''\n",
    "    \n",
    "    fig, ax = plt.subplots(1, 1, figsize = [8, 10])\n",
    "    grap_1 = sm.qqplot(datos, dist=getattr(st, name), line='q', fit=True, ax=ax)"
   ]
  },
  {
   "cell_type": "markdown",
   "metadata": {},
   "source": [
    "### Número de casos (Nodo1)"
   ]
  },
  {
   "cell_type": "code",
   "execution_count": 16,
   "metadata": {},
   "outputs": [
    {
     "data": {
      "text/plain": [
       "Text(0.5, 1.0, 'Casos EUA 2020-2021')"
      ]
     },
     "execution_count": 16,
     "metadata": {},
     "output_type": "execute_result"
    },
    {
     "data": {
      "image/png": "[encoded data removed]",
      "text/plain": [
       "<Figure size 720x360 with 1 Axes>"
      ]
     },
     "metadata": {},
     "output_type": "display_data"
    },
    {
     "data": {
      "image/png": "[encoded data removed]",
      "text/plain": [
       "<Figure size 720x360 with 1 Axes>"
      ]
     },
     "metadata": {},
     "output_type": "display_data"
    }
   ],
   "source": [
    "usa_casos = pd.DataFrame(data['total_cases'])\n",
    "usa_casos_antes = usa_casos.loc['22/01/2020':'31/12/2020']\n",
    "\n",
    "#2020\n",
    "usa_casos_antes.plot(figsize=[10,5])\n",
    "plt.ylabel('Total cases')\n",
    "plt.title('Casos EUA 2020')\n",
    "\n",
    "#2020-2021\n",
    "usa_casos.plot(figsize=[10,5])\n",
    "plt.ylabel('Total cases')\n",
    "plt.title('Casos EUA 2020-2021')"
   ]
  },
  {
   "cell_type": "markdown",
   "metadata": {},
   "source": [
    "### **Distribuciones de probabilidad**"
   ]
  },
  {
   "cell_type": "code",
   "execution_count": 17,
   "metadata": {},
   "outputs": [
    {
     "data": {
      "text/html": [
       "<div>\n",
       "<style scoped>\n",
       "    .dataframe tbody tr th:only-of-type {\n",
       "        vertical-align: middle;\n",
       "    }\n",
       "\n",
       "    .dataframe tbody tr th {\n",
       "        vertical-align: top;\n",
       "    }\n",
       "\n",
       "    .dataframe thead th {\n",
       "        text-align: right;\n",
       "    }\n",
       "</style>\n",
       "<table border=\"1\" class=\"dataframe\">\n",
       "  <thead>\n",
       "    <tr style=\"text-align: right;\">\n",
       "      <th></th>\n",
       "      <th>Distribución</th>\n",
       "      <th>Error</th>\n",
       "    </tr>\n",
       "  </thead>\n",
       "  <tbody>\n",
       "    <tr>\n",
       "      <th>0</th>\n",
       "      <td>laplace</td>\n",
       "      <td>0.004026</td>\n",
       "    </tr>\n",
       "    <tr>\n",
       "      <th>1</th>\n",
       "      <td>dweibull</td>\n",
       "      <td>0.002060</td>\n",
       "    </tr>\n",
       "    <tr>\n",
       "      <th>2</th>\n",
       "      <td>dgamma</td>\n",
       "      <td>0.002442</td>\n",
       "    </tr>\n",
       "    <tr>\n",
       "      <th>3</th>\n",
       "      <td>genlogistic</td>\n",
       "      <td>0.002519</td>\n",
       "    </tr>\n",
       "    <tr>\n",
       "      <th>4</th>\n",
       "      <td>loggamma</td>\n",
       "      <td>0.001932</td>\n",
       "    </tr>\n",
       "    <tr>\n",
       "      <th>5</th>\n",
       "      <td>cauchy</td>\n",
       "      <td>0.002523</td>\n",
       "    </tr>\n",
       "    <tr>\n",
       "      <th>6</th>\n",
       "      <td>mielke</td>\n",
       "      <td>0.002842</td>\n",
       "    </tr>\n",
       "    <tr>\n",
       "      <th>7</th>\n",
       "      <td>exponweib</td>\n",
       "      <td>0.002901</td>\n",
       "    </tr>\n",
       "  </tbody>\n",
       "</table>\n",
       "</div>"
      ],
      "text/plain": [
       "  Distribución     Error\n",
       "0      laplace  0.004026\n",
       "1     dweibull  0.002060\n",
       "2       dgamma  0.002442\n",
       "3  genlogistic  0.002519\n",
       "4     loggamma  0.001932\n",
       "5       cauchy  0.002523\n",
       "6       mielke  0.002842\n",
       "7    exponweib  0.002901"
      ]
     },
     "execution_count": 17,
     "metadata": {},
     "output_type": "execute_result"
    },
    {
     "data": {
      "image/png": "[encoded data removed]",
      "text/plain": [
       "<Figure size 576x432 with 1 Axes>"
      ]
     },
     "metadata": {},
     "output_type": "display_data"
    }
   ],
   "source": [
    "#CASOS 2020\n",
    "v1_data = log_int(usa_casos_antes)\n",
    "dist_to = ['laplace','dweibull','dgamma','genlogistic','loggamma','cauchy','mielke','exponweib']\n",
    "error = []\n",
    "\n",
    "fig, ax = plt.subplots(figsize=(8,6))\n",
    "ax.set_title('Funciones de densidad de probabilidad',size=15)\n",
    "ax.set_xlim(5, 17.5)\n",
    "[y, x, _] = ax.hist(v1_data, bins=20, density=True, label='total_cases_2020',fc='lightgray')\n",
    "x = x[1:]\n",
    "\n",
    "for dist in dist_to:\n",
    "    param = getattr(st,dist).fit(v1_data)\n",
    "    \n",
    "    pdf = getattr(st, dist).pdf(x, *param)\n",
    "    \n",
    "    ax.plot(x,pdf,linewidth=3,label='pdf = '+ str(dist))\n",
    "    plt.legend(bbox_to_anchor=(1.05, 1), loc='upper left', borderaxespad=0.);\n",
    "    \n",
    "    error.append(((y-pdf)**2).mean())\n",
    "\n",
    "dca=pd.DataFrame(list(zip(dist_to,error)), columns=['Distribución','Error'])\n",
    "    \n",
    "dca"
   ]
  },
  {
   "cell_type": "code",
   "execution_count": 18,
   "metadata": {},
   "outputs": [
    {
     "data": {
      "text/plain": [
       "4       loggamma\n",
       "1       dweibull\n",
       "2         dgamma\n",
       "3    genlogistic\n",
       "5         cauchy\n",
       "6         mielke\n",
       "7      exponweib\n",
       "0        laplace\n",
       "Name: Distribución, dtype: object"
      ]
     },
     "execution_count": 18,
     "metadata": {},
     "output_type": "execute_result"
    }
   ],
   "source": [
    "#La que mejor se ajusta 2020\n",
    "best = dca.sort_values(by = 'Error')\n",
    "best1 = best['Distribución']\n",
    "best1"
   ]
  },
  {
   "cell_type": "markdown",
   "metadata": {},
   "source": [
    "> Observamos que las tres distribuciones de menor error son:\n",
    "1. loggamma\n",
    "2. dgamma\n",
    "3. dweibull"
   ]
  },
  {
   "cell_type": "markdown",
   "metadata": {},
   "source": [
    "**Intentamos también con fitter para observar que distribución dentro de esta nos daba menor error ya que no encontramos alguna que se adecuara correctamente**"
   ]
  },
  {
   "cell_type": "code",
   "execution_count": 19,
   "metadata": {},
   "outputs": [
    {
     "name": "stderr",
     "output_type": "stream",
     "text": [
      "WARNING:root:SKIPPED kstwo distribution (taking more than 30 seconds)\n",
      "WARNING:root:SKIPPED levy_stable distribution (taking more than 30 seconds)\n",
      "WARNING:root:SKIPPED rv_continuous distribution (taking more than 30 seconds)\n",
      "WARNING:root:SKIPPED rv_histogram distribution (taking more than 30 seconds)\n"
     ]
    },
    {
     "data": {
      "text/html": [
       "<div>\n",
       "<style scoped>\n",
       "    .dataframe tbody tr th:only-of-type {\n",
       "        vertical-align: middle;\n",
       "    }\n",
       "\n",
       "    .dataframe tbody tr th {\n",
       "        vertical-align: top;\n",
       "    }\n",
       "\n",
       "    .dataframe thead th {\n",
       "        text-align: right;\n",
       "    }\n",
       "</style>\n",
       "<table border=\"1\" class=\"dataframe\">\n",
       "  <thead>\n",
       "    <tr style=\"text-align: right;\">\n",
       "      <th></th>\n",
       "      <th>sumsquare_error</th>\n",
       "      <th>aic</th>\n",
       "      <th>bic</th>\n",
       "      <th>kl_div</th>\n",
       "    </tr>\n",
       "  </thead>\n",
       "  <tbody>\n",
       "    <tr>\n",
       "      <th>gennorm</th>\n",
       "      <td>0.224545</td>\n",
       "      <td>876.180480</td>\n",
       "      <td>-2513.811822</td>\n",
       "      <td>inf</td>\n",
       "    </tr>\n",
       "    <tr>\n",
       "      <th>dweibull</th>\n",
       "      <td>0.233183</td>\n",
       "      <td>864.113097</td>\n",
       "      <td>-2500.788403</td>\n",
       "      <td>inf</td>\n",
       "    </tr>\n",
       "    <tr>\n",
       "      <th>dgamma</th>\n",
       "      <td>0.253794</td>\n",
       "      <td>852.751121</td>\n",
       "      <td>-2471.567802</td>\n",
       "      <td>inf</td>\n",
       "    </tr>\n",
       "    <tr>\n",
       "      <th>johnsonsu</th>\n",
       "      <td>0.258338</td>\n",
       "      <td>757.777412</td>\n",
       "      <td>-2459.600868</td>\n",
       "      <td>inf</td>\n",
       "    </tr>\n",
       "    <tr>\n",
       "      <th>cauchy</th>\n",
       "      <td>0.269006</td>\n",
       "      <td>918.176458</td>\n",
       "      <td>-2457.328634</td>\n",
       "      <td>inf</td>\n",
       "    </tr>\n",
       "  </tbody>\n",
       "</table>\n",
       "</div>"
      ],
      "text/plain": [
       "           sumsquare_error         aic          bic  kl_div\n",
       "gennorm           0.224545  876.180480 -2513.811822     inf\n",
       "dweibull          0.233183  864.113097 -2500.788403     inf\n",
       "dgamma            0.253794  852.751121 -2471.567802     inf\n",
       "johnsonsu         0.258338  757.777412 -2459.600868     inf\n",
       "cauchy            0.269006  918.176458 -2457.328634     inf"
      ]
     },
     "execution_count": 19,
     "metadata": {},
     "output_type": "execute_result"
    },
    {
     "data": {
      "image/png": "[encoded data removed]",
      "text/plain": [
       "<Figure size 432x288 with 1 Axes>"
      ]
     },
     "metadata": {},
     "output_type": "display_data"
    }
   ],
   "source": [
    "##2020\n",
    "warnings.filterwarnings(\"ignore\")\n",
    "\n",
    "fitter1 = Fitter(v1_data)\n",
    "fitter1.fit()\n",
    "fitter1.summary()"
   ]
  },
  {
   "cell_type": "code",
   "execution_count": 20,
   "metadata": {},
   "outputs": [
    {
     "data": {
      "text/plain": [
       "'gennorm'"
      ]
     },
     "execution_count": 20,
     "metadata": {},
     "output_type": "execute_result"
    }
   ],
   "source": [
    "dist_fitter = list(fitter1.get_best().keys())[0]\n",
    "dist_fitter"
   ]
  },
  {
   "cell_type": "code",
   "execution_count": 21,
   "metadata": {},
   "outputs": [
    {
     "data": {
      "image/png": "[encoded data removed]",
      "text/plain": [
       "<Figure size 576x720 with 1 Axes>"
      ]
     },
     "metadata": {},
     "output_type": "display_data"
    }
   ],
   "source": [
    "grafica_qq_1(v1_data, dist_fitter)"
   ]
  },
  {
   "cell_type": "code",
   "execution_count": 22,
   "metadata": {},
   "outputs": [
    {
     "data": {
      "text/html": [
       "<div>\n",
       "<style scoped>\n",
       "    .dataframe tbody tr th:only-of-type {\n",
       "        vertical-align: middle;\n",
       "    }\n",
       "\n",
       "    .dataframe tbody tr th {\n",
       "        vertical-align: top;\n",
       "    }\n",
       "\n",
       "    .dataframe thead th {\n",
       "        text-align: right;\n",
       "    }\n",
       "</style>\n",
       "<table border=\"1\" class=\"dataframe\">\n",
       "  <thead>\n",
       "    <tr style=\"text-align: right;\">\n",
       "      <th></th>\n",
       "      <th>Distribución</th>\n",
       "      <th>Error</th>\n",
       "    </tr>\n",
       "  </thead>\n",
       "  <tbody>\n",
       "    <tr>\n",
       "      <th>0</th>\n",
       "      <td>argus</td>\n",
       "      <td>0.003453</td>\n",
       "    </tr>\n",
       "    <tr>\n",
       "      <th>1</th>\n",
       "      <td>genlogistic</td>\n",
       "      <td>0.002009</td>\n",
       "    </tr>\n",
       "    <tr>\n",
       "      <th>2</th>\n",
       "      <td>exponweib</td>\n",
       "      <td>0.005537</td>\n",
       "    </tr>\n",
       "    <tr>\n",
       "      <th>3</th>\n",
       "      <td>gompertz</td>\n",
       "      <td>0.006014</td>\n",
       "    </tr>\n",
       "    <tr>\n",
       "      <th>4</th>\n",
       "      <td>loggamma</td>\n",
       "      <td>0.001415</td>\n",
       "    </tr>\n",
       "    <tr>\n",
       "      <th>5</th>\n",
       "      <td>loglaplace</td>\n",
       "      <td>0.006465</td>\n",
       "    </tr>\n",
       "    <tr>\n",
       "      <th>6</th>\n",
       "      <td>gumbel_l</td>\n",
       "      <td>0.006003</td>\n",
       "    </tr>\n",
       "    <tr>\n",
       "      <th>7</th>\n",
       "      <td>t</td>\n",
       "      <td>0.005355</td>\n",
       "    </tr>\n",
       "  </tbody>\n",
       "</table>\n",
       "</div>"
      ],
      "text/plain": [
       "  Distribución     Error\n",
       "0        argus  0.003453\n",
       "1  genlogistic  0.002009\n",
       "2    exponweib  0.005537\n",
       "3     gompertz  0.006014\n",
       "4     loggamma  0.001415\n",
       "5   loglaplace  0.006465\n",
       "6     gumbel_l  0.006003\n",
       "7            t  0.005355"
      ]
     },
     "execution_count": 22,
     "metadata": {},
     "output_type": "execute_result"
    },
    {
     "data": {
      "image/png": "[encoded data removed]",
      "text/plain": [
       "<Figure size 576x432 with 1 Axes>"
      ]
     },
     "metadata": {},
     "output_type": "display_data"
    }
   ],
   "source": [
    "#CASOS 2020-2021\n",
    "v2_data = log_int(usa_casos)\n",
    "dist_to = ['argus','genlogistic','exponweib','gompertz','loggamma','loglaplace','gumbel_l','t']\n",
    "error = []\n",
    "\n",
    "fig, ax = plt.subplots(figsize=(8,6))\n",
    "ax.set_title('Funciones de densidad de probabilidad',size=15)\n",
    "ax.set_xlim(5, 17.5)\n",
    "[y, x, _] = ax.hist(v2_data, bins=20, density=True, label='total_cases_2020-2021',fc='lightgray')\n",
    "x = x[1:]\n",
    "\n",
    "for dist in dist_to:\n",
    "    param = getattr(st,dist).fit(v2_data)\n",
    "    \n",
    "    pdf = getattr(st, dist).pdf(x, *param)\n",
    "    \n",
    "    ax.plot(x,pdf,linewidth=3,label='pdf = '+ str(dist))\n",
    "    plt.legend(bbox_to_anchor=(1.05, 1), loc='upper left', borderaxespad=0.);\n",
    "    \n",
    "    error.append(((y-pdf)**2).mean())\n",
    "\n",
    "dc=pd.DataFrame(list(zip(dist_to,error)), columns=['Distribución','Error'])\n",
    "    \n",
    "dc"
   ]
  },
  {
   "cell_type": "code",
   "execution_count": 23,
   "metadata": {},
   "outputs": [
    {
     "data": {
      "text/plain": [
       "4       loggamma\n",
       "1    genlogistic\n",
       "0          argus\n",
       "7              t\n",
       "2      exponweib\n",
       "6       gumbel_l\n",
       "3       gompertz\n",
       "5     loglaplace\n",
       "Name: Distribución, dtype: object"
      ]
     },
     "execution_count": 23,
     "metadata": {},
     "output_type": "execute_result"
    }
   ],
   "source": [
    "#La que mejor se ajusta 2020-2021\n",
    "best_A = dc.sort_values(by = 'Error')\n",
    "best2 = best_A['Distribución']\n",
    "best2"
   ]
  },
  {
   "cell_type": "markdown",
   "metadata": {},
   "source": [
    "> Observamos que las tres distribuciones de menor error son:\n",
    "   1. genlogistic\n",
    "   2. loggamma\n",
    "   3. argus"
   ]
  },
  {
   "cell_type": "markdown",
   "metadata": {},
   "source": [
    "**De igual manera intentamos con fitter**"
   ]
  },
  {
   "cell_type": "code",
   "execution_count": 24,
   "metadata": {},
   "outputs": [
    {
     "name": "stderr",
     "output_type": "stream",
     "text": [
      "WARNING:root:SKIPPED kstwo distribution (taking more than 30 seconds)\n",
      "WARNING:root:SKIPPED levy_stable distribution (taking more than 30 seconds)\n",
      "WARNING:root:SKIPPED lognorm distribution (taking more than 30 seconds)\n",
      "WARNING:root:SKIPPED mielke distribution (taking more than 30 seconds)\n",
      "WARNING:root:SKIPPED nakagami distribution (taking more than 30 seconds)\n",
      "WARNING:root:SKIPPED ncf distribution (taking more than 30 seconds)\n",
      "WARNING:root:SKIPPED nct distribution (taking more than 30 seconds)\n",
      "WARNING:root:SKIPPED ncx2 distribution (taking more than 30 seconds)\n",
      "WARNING:root:SKIPPED norminvgauss distribution (taking more than 30 seconds)\n",
      "WARNING:root:SKIPPED pearson3 distribution (taking more than 30 seconds)\n",
      "WARNING:root:SKIPPED powerlognorm distribution (taking more than 30 seconds)\n",
      "WARNING:root:SKIPPED powernorm distribution (taking more than 30 seconds)\n",
      "WARNING:root:SKIPPED rv_continuous distribution (taking more than 30 seconds)\n",
      "WARNING:root:SKIPPED rv_histogram distribution (taking more than 30 seconds)\n",
      "WARNING:root:SKIPPED skewnorm distribution (taking more than 30 seconds)\n",
      "WARNING:root:SKIPPED vonmises distribution (taking more than 30 seconds)\n",
      "WARNING:root:SKIPPED vonmises_line distribution (taking more than 30 seconds)\n"
     ]
    },
    {
     "data": {
      "text/html": [
       "<div>\n",
       "<style scoped>\n",
       "    .dataframe tbody tr th:only-of-type {\n",
       "        vertical-align: middle;\n",
       "    }\n",
       "\n",
       "    .dataframe tbody tr th {\n",
       "        vertical-align: top;\n",
       "    }\n",
       "\n",
       "    .dataframe thead th {\n",
       "        text-align: right;\n",
       "    }\n",
       "</style>\n",
       "<table border=\"1\" class=\"dataframe\">\n",
       "  <thead>\n",
       "    <tr style=\"text-align: right;\">\n",
       "      <th></th>\n",
       "      <th>sumsquare_error</th>\n",
       "      <th>aic</th>\n",
       "      <th>bic</th>\n",
       "      <th>kl_div</th>\n",
       "    </tr>\n",
       "  </thead>\n",
       "  <tbody>\n",
       "    <tr>\n",
       "      <th>johnsonsb</th>\n",
       "      <td>0.283838</td>\n",
       "      <td>729.874294</td>\n",
       "      <td>-3898.853710</td>\n",
       "      <td>inf</td>\n",
       "    </tr>\n",
       "    <tr>\n",
       "      <th>johnsonsu</th>\n",
       "      <td>0.337721</td>\n",
       "      <td>835.772849</td>\n",
       "      <td>-3808.120877</td>\n",
       "      <td>inf</td>\n",
       "    </tr>\n",
       "    <tr>\n",
       "      <th>weibull_max</th>\n",
       "      <td>0.435090</td>\n",
       "      <td>809.199412</td>\n",
       "      <td>-3682.139580</td>\n",
       "      <td>inf</td>\n",
       "    </tr>\n",
       "    <tr>\n",
       "      <th>frechet_l</th>\n",
       "      <td>0.435090</td>\n",
       "      <td>809.199412</td>\n",
       "      <td>-3682.139580</td>\n",
       "      <td>inf</td>\n",
       "    </tr>\n",
       "    <tr>\n",
       "      <th>levy_l</th>\n",
       "      <td>0.442339</td>\n",
       "      <td>862.624072</td>\n",
       "      <td>-3679.771902</td>\n",
       "      <td>inf</td>\n",
       "    </tr>\n",
       "  </tbody>\n",
       "</table>\n",
       "</div>"
      ],
      "text/plain": [
       "             sumsquare_error         aic          bic  kl_div\n",
       "johnsonsb           0.283838  729.874294 -3898.853710     inf\n",
       "johnsonsu           0.337721  835.772849 -3808.120877     inf\n",
       "weibull_max         0.435090  809.199412 -3682.139580     inf\n",
       "frechet_l           0.435090  809.199412 -3682.139580     inf\n",
       "levy_l              0.442339  862.624072 -3679.771902     inf"
      ]
     },
     "execution_count": 24,
     "metadata": {},
     "output_type": "execute_result"
    },
    {
     "data": {
      "image/png": "[encoded data removed]",
      "text/plain": [
       "<Figure size 432x288 with 1 Axes>"
      ]
     },
     "metadata": {},
     "output_type": "display_data"
    }
   ],
   "source": [
    "##2020-2021\n",
    "warnings.filterwarnings(\"ignore\")\n",
    "\n",
    "fitter2 = Fitter(v2_data)\n",
    "fitter2.fit()\n",
    "fitter2.summary()"
   ]
  },
  {
   "cell_type": "code",
   "execution_count": 25,
   "metadata": {},
   "outputs": [
    {
     "data": {
      "text/plain": [
       "'johnsonsb'"
      ]
     },
     "execution_count": 25,
     "metadata": {},
     "output_type": "execute_result"
    }
   ],
   "source": [
    "dist_fitter2 = list(fitter2.get_best().keys())[0]\n",
    "dist_fitter2"
   ]
  },
  {
   "cell_type": "code",
   "execution_count": 26,
   "metadata": {},
   "outputs": [
    {
     "data": {
      "image/png": "[encoded data removed]",
      "text/plain": [
       "<Figure size 576x720 with 1 Axes>"
      ]
     },
     "metadata": {},
     "output_type": "display_data"
    }
   ],
   "source": [
    "grafica_qq_1(v2_data, dist_fitter2)"
   ]
  },
  {
   "cell_type": "markdown",
   "metadata": {},
   "source": [
    "### **Ajuste de distribuciones**\n",
    "###  **Q-Q**"
   ]
  },
  {
   "cell_type": "code",
   "execution_count": 27,
   "metadata": {},
   "outputs": [
    {
     "data": {
      "image/png": "[encoded data removed]",
      "text/plain": [
       "<Figure size 576x864 with 3 Axes>"
      ]
     },
     "metadata": {},
     "output_type": "display_data"
    }
   ],
   "source": [
    "##2020\n",
    "## gennorm ##\n",
    "\n",
    "\n",
    "measurements = v1_data\n",
    "# Histograma de las variables creadas\n",
    "divisiones = 50 # Cantidad de barras en el histograma\n",
    "fig, ax = plt.subplots(3,1, figsize=(8,12))\n",
    "fig.tight_layout(pad=3.0)\n",
    "\n",
    "ax[0].hist(measurements,divisiones,density=True)\n",
    "\n",
    "# Función de distribución de probabilidad la cual creemos que mis datos distribuyen \n",
    "# RECORDAR: SÓLO FUNCIONA PARA DISTRIBUCIONES CONTINUAS\n",
    "dist = 'gennorm'\n",
    "params = getattr(st, dist).fit(measurements)\n",
    "\n",
    "# Graficar PDF de la distribución que queremos probar\n",
    "\n",
    "x = np.arange(measurements.min(), measurements.max(), .01)\n",
    "y = getattr(st, dist).pdf(x, *params)\n",
    "ax[0].plot(x,y,'r--')\n",
    "ax[0].set_ylabel('Probability')\n",
    "ax[0].grid()\n",
    "\n",
    "# gráfica de Q-Q entre mis datos y la curva que quiero probar que sigue mi distribución (dist)\n",
    "# Usando scipy\n",
    "grap2 = st.probplot(measurements, dist=dist, sparams=getattr(st, dist).fit(x)[:-2], plot=ax[1], fit=True)\n",
    "ax[1].grid()\n",
    "ax[1].set_title('Usando paquete scipy')\n",
    "\n",
    "grap1 = sm.qqplot(measurements,line='s',ax=ax[2])\n",
    "ax[2].grid()\n",
    "ax[2].set_title('Usando paquete stats')\n",
    "\n",
    "plt.xlabel(f'{dist.title()} theorical quantiles',size=10)\n",
    "plt.ylabel('Data theorical quantiles')\n",
    "plt.show()"
   ]
  },
  {
   "cell_type": "code",
   "execution_count": 28,
   "metadata": {},
   "outputs": [
    {
     "data": {
      "image/png": "[encoded data removed]",
      "text/plain": [
       "<Figure size 576x720 with 3 Axes>"
      ]
     },
     "metadata": {},
     "output_type": "display_data"
    }
   ],
   "source": [
    "##2020\n",
    "\n",
    "## dgamma ##\n",
    "measurements = v1_data\n",
    "# Histograma de las variables creadas\n",
    "divisiones = 50 # Cantidad de barras en el histograma\n",
    "fig, ax = plt.subplots(3,1, figsize=(8,10))\n",
    "fig.tight_layout(pad=3.0)\n",
    "\n",
    "ax[0].hist(measurements,divisiones,density=True)\n",
    "\n",
    "# Función de distribución de probabilidad la cual creemos que mis datos distribuyen \n",
    "# RECORDAR: SÓLO FUNCIONA PARA DISTRIBUCIONES CONTINUAS\n",
    "dist = 'dgamma'\n",
    "params = getattr(st, dist).fit(measurements)\n",
    "\n",
    "# Graficar PDF de la distribución que queremos probar\n",
    "\n",
    "x = np.arange(measurements.min(), measurements.max(), .01)\n",
    "y = getattr(st, dist).pdf(x, *params)\n",
    "ax[0].plot(x,y,'r--')\n",
    "ax[0].set_ylabel('Probability')\n",
    "ax[0].grid()\n",
    "\n",
    "# gráfica de Q-Q entre mis datos y la curva que quiero probar que sigue mi distribución (dist)\n",
    "# Usando scipy\n",
    "grap2 = st.probplot(measurements, dist=dist, sparams=getattr(st, dist).fit(x)[:-2], plot=ax[1], fit=True)\n",
    "ax[1].grid()\n",
    "ax[1].set_title('Usando paquete scipy')\n",
    "\n",
    "grap1 = sm.qqplot(measurements,line='s',ax=ax[2])\n",
    "ax[2].grid()\n",
    "ax[2].set_title('Usando paquete stats')\n",
    "\n",
    "plt.xlabel(f'{dist.title()} theorical quantiles',size=20)\n",
    "plt.ylabel('Data theorical quantiles')\n",
    "plt.show()"
   ]
  },
  {
   "cell_type": "code",
   "execution_count": null,
   "metadata": {},
   "outputs": [
    {
     "name": "stderr",
     "output_type": "stream",
     "text": [
      "ERROR:root:Internal Python error in the inspect module.\n",
      "Below is the traceback from this internal error.\n",
      "\n"
     ]
    },
    {
     "name": "stdout",
     "output_type": "stream",
     "text": [
      "Traceback (most recent call last):\n",
      "  File \"/opt/anaconda3/lib/python3.8/site-packages/IPython/core/interactiveshell.py\", line 3343, in run_code\n",
      "    exec(code_obj, self.user_global_ns, self.user_ns)\n",
      "  File \"<ipython-input-29-ca17e26186fd>\", line 37, in <module>\n",
      "    plt.show()\n",
      "  File \"/opt/anaconda3/lib/python3.8/site-packages/matplotlib/pyplot.py\", line 272, in show\n",
      "    return _show(*args, **kw)\n",
      "  File \"/opt/anaconda3/lib/python3.8/site-packages/ipykernel/pylab/backend_inline.py\", line 41, in show\n",
      "    display(\n",
      "  File \"/opt/anaconda3/lib/python3.8/site-packages/IPython/core/display.py\", line 313, in display\n",
      "    format_dict, md_dict = format(obj, include=include, exclude=exclude)\n",
      "  File \"/opt/anaconda3/lib/python3.8/site-packages/IPython/core/formatters.py\", line 180, in format\n",
      "    data = formatter(obj)\n",
      "  File \"<decorator-gen-9>\", line 2, in __call__\n",
      "  File \"/opt/anaconda3/lib/python3.8/site-packages/IPython/core/formatters.py\", line 224, in catch_format_error\n",
      "    r = method(self, *args, **kwargs)\n",
      "  File \"/opt/anaconda3/lib/python3.8/site-packages/IPython/core/formatters.py\", line 341, in __call__\n",
      "    return printer(obj)\n",
      "  File \"/opt/anaconda3/lib/python3.8/site-packages/IPython/core/pylabtools.py\", line 248, in <lambda>\n",
      "    png_formatter.for_type(Figure, lambda fig: print_figure(fig, 'png', **kwargs))\n",
      "  File \"/opt/anaconda3/lib/python3.8/site-packages/IPython/core/pylabtools.py\", line 132, in print_figure\n",
      "    fig.canvas.print_figure(bytes_io, **kw)\n",
      "  File \"/opt/anaconda3/lib/python3.8/site-packages/matplotlib/backend_bases.py\", line 2102, in print_figure\n",
      "    bbox_inches = self.figure.get_tightbbox(renderer,\n",
      "  File \"/opt/anaconda3/lib/python3.8/site-packages/matplotlib/figure.py\", line 2385, in get_tightbbox\n",
      "    bbox = a.get_tightbbox(renderer)\n",
      "  File \"/opt/anaconda3/lib/python3.8/site-packages/matplotlib/artist.py\", line 282, in get_tightbbox\n",
      "    bbox = self.get_window_extent(renderer)\n",
      "  File \"/opt/anaconda3/lib/python3.8/site-packages/matplotlib/patches.py\", line 609, in get_window_extent\n",
      "    return self.get_path().get_extents(self.get_transform())\n",
      "  File \"/opt/anaconda3/lib/python3.8/site-packages/matplotlib/path.py\", line 537, in get_extents\n",
      "    transform = transform.frozen()\n",
      "  File \"/opt/anaconda3/lib/python3.8/site-packages/matplotlib/transforms.py\", line 2316, in frozen\n",
      "    return frozen.frozen()\n",
      "  File \"/opt/anaconda3/lib/python3.8/site-packages/matplotlib/transforms.py\", line 1766, in frozen\n",
      "    return Affine2D(self.get_matrix().copy())\n",
      "  File \"/opt/anaconda3/lib/python3.8/site-packages/matplotlib/transforms.py\", line 2454, in get_matrix\n",
      "    self._mtx = np.dot(\n",
      "  File \"<__array_function__ internals>\", line 5, in dot\n",
      "KeyboardInterrupt\n",
      "\n",
      "During handling of the above exception, another exception occurred:\n",
      "\n",
      "Traceback (most recent call last):\n",
      "  File \"/opt/anaconda3/lib/python3.8/site-packages/IPython/core/interactiveshell.py\", line 2044, in showtraceback\n",
      "    stb = value._render_traceback_()\n",
      "AttributeError: 'KeyboardInterrupt' object has no attribute '_render_traceback_'\n",
      "\n",
      "During handling of the above exception, another exception occurred:\n",
      "\n",
      "Traceback (most recent call last):\n",
      "  File \"/opt/anaconda3/lib/python3.8/site-packages/IPython/core/ultratb.py\", line 1169, in get_records\n",
      "    return _fixed_getinnerframes(etb, number_of_lines_of_context, tb_offset)\n",
      "  File \"/opt/anaconda3/lib/python3.8/site-packages/IPython/core/ultratb.py\", line 316, in wrapped\n",
      "    return f(*args, **kwargs)\n",
      "  File \"/opt/anaconda3/lib/python3.8/site-packages/IPython/core/ultratb.py\", line 350, in _fixed_getinnerframes\n",
      "    records = fix_frame_records_filenames(inspect.getinnerframes(etb, context))\n",
      "  File \"/opt/anaconda3/lib/python3.8/inspect.py\", line 1503, in getinnerframes\n",
      "    frameinfo = (tb.tb_frame,) + getframeinfo(tb, context)\n",
      "  File \"/opt/anaconda3/lib/python3.8/inspect.py\", line 1461, in getframeinfo\n",
      "    filename = getsourcefile(frame) or getfile(frame)\n",
      "  File \"/opt/anaconda3/lib/python3.8/inspect.py\", line 708, in getsourcefile\n",
      "    if getattr(getmodule(object, filename), '__loader__', None) is not None:\n",
      "  File \"/opt/anaconda3/lib/python3.8/inspect.py\", line 754, in getmodule\n",
      "    os.path.realpath(f)] = module.__name__\n",
      "  File \"/opt/anaconda3/lib/python3.8/posixpath.py\", line 391, in realpath\n",
      "    path, ok = _joinrealpath(filename[:0], filename, {})\n",
      "  File \"/opt/anaconda3/lib/python3.8/posixpath.py\", line 425, in _joinrealpath\n",
      "    if not islink(newpath):\n",
      "  File \"/opt/anaconda3/lib/python3.8/posixpath.py\", line 167, in islink\n",
      "    st = os.lstat(path)\n",
      "KeyboardInterrupt\n"
     ]
    }
   ],
   "source": [
    "##2020\n",
    "\n",
    "##dweibull\n",
    "measurements = v1_data\n",
    "# Histograma de las variables creadas\n",
    "divisiones = 50 # Cantidad de barras en el histograma\n",
    "fig, ax = plt.subplots(3,1, figsize=(8,10))\n",
    "fig.tight_layout(pad=3.0)\n",
    "\n",
    "ax[0].hist(measurements,divisiones,density=True)\n",
    "\n",
    "# Función de distribución de probabilidad la cual creemos que mis datos distribuyen \n",
    "# RECORDAR: SÓLO FUNCIONA PARA DISTRIBUCIONES CONTINUAS\n",
    "dist = 'dweibull'\n",
    "params = getattr(st, dist).fit(measurements)\n",
    "\n",
    "# Graficar PDF de la distribución que queremos probar\n",
    "\n",
    "x = np.arange(measurements.min(), measurements.max(), .01)\n",
    "y = getattr(st, dist).pdf(x, *params)\n",
    "ax[0].plot(x,y,'r--')\n",
    "ax[0].set_ylabel('Probability')\n",
    "ax[0].grid()\n",
    "\n",
    "# gráfica de Q-Q entre mis datos y la curva que quiero probar que sigue mi distribución (dist)\n",
    "# Usando scipy\n",
    "grap2 = st.probplot(measurements, dist=dist, sparams=getattr(st, dist).fit(x)[:-2], plot=ax[1], fit=True)\n",
    "ax[1].grid()\n",
    "ax[1].set_title('Usando paquete scipy')\n",
    "\n",
    "grap1 = sm.qqplot(measurements,line='s',ax=ax[2])\n",
    "ax[2].grid()\n",
    "ax[2].set_title('Usando paquete stats')\n",
    "\n",
    "plt.xlabel(f'{dist.title()} theorical quantiles',size=20)\n",
    "plt.ylabel('Data theorical quantiles')\n",
    "plt.show()"
   ]
  },
  {
   "cell_type": "markdown",
   "metadata": {},
   "source": [
    "> Observando las gráficas, ninguna se ajusta adecuadamente sin embargo la más cercana sería loggamma para los casos del 2020."
   ]
  },
  {
   "cell_type": "markdown",
   "metadata": {},
   "source": [
    "**2020-2021**"
   ]
  },
  {
   "cell_type": "code",
   "execution_count": null,
   "metadata": {},
   "outputs": [],
   "source": [
    "##2020-2021\n",
    "measurements = v2_data\n",
    "# Histograma de las variables creadas\n",
    "divisiones = 50 # Cantidad de barras en el histograma\n",
    "fig, ax = plt.subplots(3,1, figsize=(8,10))\n",
    "fig.tight_layout(pad=3.0)\n",
    "\n",
    "ax[0].hist(measurements,divisiones,density=True)\n",
    "\n",
    "# Función de distribución de probabilidad la cual creemos que mis datos distribuyen \n",
    "# RECORDAR: SÓLO FUNCIONA PARA DISTRIBUCIONES CONTINUAS\n",
    "dist = 'johnsonsb'\n",
    "params = getattr(st, dist).fit(measurements)\n",
    "\n",
    "# Graficar PDF de la distribución que queremos probar\n",
    "\n",
    "x = np.arange(measurements.min(), measurements.max(), .01)\n",
    "y = getattr(st, dist).pdf(x, *params)\n",
    "ax[0].plot(x,y,'r--')\n",
    "ax[0].set_ylabel('Probability')\n",
    "ax[0].grid()\n",
    "\n",
    "# gráfica de Q-Q entre mis datos y la curva que quiero probar que sigue mi distribución (dist)\n",
    "# Usando scipy\n",
    "grap2 = st.probplot(measurements, dist=dist, sparams=getattr(st, dist).fit(x)[:-2], plot=ax[1], fit=True)\n",
    "ax[1].grid()\n",
    "ax[1].set_title('Usando paquete scipy')\n",
    "\n",
    "grap1 = sm.qqplot(measurements,line='s',ax=ax[2])\n",
    "ax[2].grid()\n",
    "ax[2].set_title('Usando paquete stats')\n",
    "\n",
    "plt.xlabel(f'{dist.title()} theorical quantiles',size=20)\n",
    "plt.ylabel('Data theorical quantiles')\n",
    "plt.show()"
   ]
  },
  {
   "cell_type": "code",
   "execution_count": null,
   "metadata": {},
   "outputs": [],
   "source": [
    "##2020-2021\n",
    "measurements = v2_data\n",
    "# Histograma de las variables creadas\n",
    "divisiones = 50 # Cantidad de barras en el histograma\n",
    "fig, ax = plt.subplots(3,1, figsize=(8,10))\n",
    "fig.tight_layout(pad=3.0)\n",
    "\n",
    "ax[0].hist(measurements,divisiones,density=True)\n",
    "\n",
    "# Función de distribución de probabilidad la cual creemos que mis datos distribuyen \n",
    "# RECORDAR: SÓLO FUNCIONA PARA DISTRIBUCIONES CONTINUAS\n",
    "dist = 'johnsonsu'\n",
    "params = getattr(st, dist).fit(measurements)\n",
    "\n",
    "# Graficar PDF de la distribución que queremos probar\n",
    "\n",
    "x = np.arange(measurements.min(), measurements.max(), .01)\n",
    "y = getattr(st, dist).pdf(x, *params)\n",
    "ax[0].plot(x,y,'r--')\n",
    "ax[0].set_ylabel('Probability')\n",
    "ax[0].grid()\n",
    "\n",
    "# gráfica de Q-Q entre mis datos y la curva que quiero probar que sigue mi distribución (dist)\n",
    "# Usando scipy\n",
    "grap2 = st.probplot(measurements, dist=dist, sparams=getattr(st, dist).fit(x)[:-2], plot=ax[1], fit=True)\n",
    "ax[1].grid()\n",
    "ax[1].set_title('Usando paquete scipy')\n",
    "\n",
    "grap1 = sm.qqplot(measurements,line='s',ax=ax[2])\n",
    "ax[2].grid()\n",
    "ax[2].set_title('Usando paquete stats')\n",
    "\n",
    "plt.xlabel(f'{dist.title()} theorical quantiles',size=20)\n",
    "plt.ylabel('Data theorical quantiles')\n",
    "plt.show()"
   ]
  },
  {
   "cell_type": "code",
   "execution_count": null,
   "metadata": {},
   "outputs": [],
   "source": [
    "##2020-2021\n",
    "measurements = v2_data\n",
    "# Histograma de las variables creadas\n",
    "divisiones = 50 # Cantidad de barras en el histograma\n",
    "fig, ax = plt.subplots(3,1, figsize=(8,10))\n",
    "fig.tight_layout(pad=3.0)\n",
    "\n",
    "ax[0].hist(measurements,divisiones,density=True)\n",
    "\n",
    "# Función de distribución de probabilidad la cual creemos que mis datos distribuyen \n",
    "# RECORDAR: SÓLO FUNCIONA PARA DISTRIBUCIONES CONTINUAS\n",
    "dist = 'weibull_max'\n",
    "params = getattr(st, dist).fit(measurements)\n",
    "\n",
    "# Graficar PDF de la distribución que queremos probar\n",
    "\n",
    "x = np.arange(measurements.min(), measurements.max(), .01)\n",
    "y = getattr(st, dist).pdf(x, *params)\n",
    "ax[0].plot(x,y,'r--')\n",
    "ax[0].set_ylabel('Probability')\n",
    "ax[0].grid()\n",
    "\n",
    "# gráfica de Q-Q entre mis datos y la curva que quiero probar que sigue mi distribución (dist)\n",
    "# Usando scipy\n",
    "grap2 = st.probplot(measurements, dist=dist, sparams=getattr(st, dist).fit(x)[:-2], plot=ax[1], fit=True)\n",
    "ax[1].grid()\n",
    "ax[1].set_title('Usando paquete scipy')\n",
    "\n",
    "grap1 = sm.qqplot(measurements,line='s',ax=ax[2])\n",
    "ax[2].grid()\n",
    "ax[2].set_title('Usando paquete stats')\n",
    "\n",
    "plt.xlabel(f'{dist.title()} theorical quantiles',size=20)\n",
    "plt.ylabel('Data theorical quantiles')\n",
    "plt.show()"
   ]
  },
  {
   "cell_type": "markdown",
   "metadata": {},
   "source": [
    "> De igual manera para los casos de 2020-2021 la de menor error fue genlogistic."
   ]
  },
  {
   "cell_type": "markdown",
   "metadata": {},
   "source": [
    "### **Histogramas con CHI cuadrada**"
   ]
  },
  {
   "cell_type": "code",
   "execution_count": null,
   "metadata": {},
   "outputs": [],
   "source": [
    "#2020\n",
    "J1 = 30\n",
    "y, x, _ = plt.hist(v1_data, bins = J1, density = True, label = 'Datos')\n",
    "x = x[1:]\n",
    "plt.legend(loc = 'best')"
   ]
  },
  {
   "cell_type": "code",
   "execution_count": null,
   "metadata": {},
   "outputs": [],
   "source": [
    "#2020\n",
    "chi_cuadrada(best1[4],v1_data,x,y,J1,0.95)"
   ]
  },
  {
   "cell_type": "code",
   "execution_count": null,
   "metadata": {},
   "outputs": [],
   "source": [
    "#2020-2021\n",
    "J2 = 30\n",
    "y, x, _ = plt.hist(v2_data, bins = J1, density = True, label = 'Datos')\n",
    "x = x[1:]\n",
    "plt.legend(loc = 'best')"
   ]
  },
  {
   "cell_type": "code",
   "execution_count": null,
   "metadata": {},
   "outputs": [],
   "source": [
    "##2020-2021\n",
    "chi_cuadrada(best2[1],v2_data,x,y,J1,0.95)"
   ]
  },
  {
   "cell_type": "markdown",
   "metadata": {},
   "source": [
    "### **KDE**"
   ]
  },
  {
   "cell_type": "code",
   "execution_count": null,
   "metadata": {},
   "outputs": [],
   "source": [
    "#bandwith adecuado 2020\n",
    "bd1 = get_bandwidth(v1_data, .1, 2, 30).pop('bandwidth')\n",
    "bd1"
   ]
  },
  {
   "cell_type": "code",
   "execution_count": null,
   "metadata": {},
   "outputs": [],
   "source": [
    "#2020\n",
    "xx = np.linspace(np.amin(v1_data), np.amax(v1_data), 1000)\n",
    "f1 = kde_hist_f_u(v1_data,bd1, J1, xx)"
   ]
  },
  {
   "cell_type": "code",
   "execution_count": null,
   "metadata": {},
   "outputs": [],
   "source": [
    "#bandwith adecuado 2020-2021\n",
    "bd2 = get_bandwidth(v2_data, .1, 5, 100).pop('bandwidth')\n",
    "bd2"
   ]
  },
  {
   "cell_type": "code",
   "execution_count": null,
   "metadata": {},
   "outputs": [],
   "source": [
    "#2020-2021\n",
    "xx2 = np.linspace(np.amin(v2_data), np.amax(v2_data), 1000)\n",
    "f2 = kde_hist_f_u(v2_data,bd2, J2, xx2)"
   ]
  },
  {
   "cell_type": "markdown",
   "metadata": {},
   "source": [
    "### **Aceptación y Rechazo con reducción de varianzas**"
   ]
  },
  {
   "cell_type": "code",
   "execution_count": null,
   "metadata": {},
   "outputs": [],
   "source": [
    "#2020\n",
    "v_a_casos1 = generar_aleatorias_reducc_var(600,f1,16,xx,v1_data,estra_igualmente_espaciado,600)\n",
    "v_a_casos1"
   ]
  },
  {
   "cell_type": "code",
   "execution_count": null,
   "metadata": {},
   "outputs": [],
   "source": [
    "#2020-2021\n",
    "v_a_casos2 = generar_aleatorias_reducc_var(600,f2,17,xx2,v2_data,estra_igualmente_espaciado,600)\n",
    "v_a_casos2"
   ]
  },
  {
   "cell_type": "markdown",
   "metadata": {},
   "source": [
    "### **Montecarlo y Muestreo estratificado**"
   ]
  },
  {
   "cell_type": "code",
   "execution_count": null,
   "metadata": {},
   "outputs": [],
   "source": [
    "##2020\n",
    "params = st.exponweib.fit(v1_data)\n",
    "# Separate parts of parameters\n",
    "arg = params[:-2]\n",
    "loc1 = params[-2]\n",
    "scale1 = params[-1]"
   ]
  },
  {
   "cell_type": "code",
   "execution_count": null,
   "metadata": {},
   "outputs": [],
   "source": [
    "N = 500\n",
    "# (Método transformada inversa visto en clases pasadas)\n",
    "# Método montecarlo estándar \n",
    "montecarlo_standar = st.cosine.ppf(np.random.rand(N),loc1,scale1)\n",
    "plt.figure(figsize=(10,8))\n",
    "plt.hist(montecarlo_standar,30,density=True,color='mediumaquamarine')\n",
    "plt.title('Montecarlo estándar')\n",
    "plt.show()\n",
    "\n",
    "# Método muestreo estratificado (B estratos)\n",
    "B = N\n",
    "U2 = np.random.rand(B)\n",
    "i = np.arange(0,B)\n",
    "v = (U2+i)/B\n",
    "m_estratificado = st.cosine.ppf(v)\n",
    "\n",
    "plt.figure(figsize=(10,8))\n",
    "plt.hist(m_estratificado,30,density=True,color='lightseagreen')\n",
    "plt.title('Muestreo estratificado')\n",
    "plt.show()"
   ]
  },
  {
   "cell_type": "code",
   "execution_count": null,
   "metadata": {},
   "outputs": [],
   "source": [
    "##2020-2021\n",
    "param = st.loggamma.fit(v2_data)\n",
    "# Separate parts of parameters\n",
    "arg2 = param[:-2]\n",
    "loc2 = param[-2]\n",
    "scale2 = param[-1]"
   ]
  },
  {
   "cell_type": "code",
   "execution_count": null,
   "metadata": {},
   "outputs": [],
   "source": [
    "N = 500\n",
    "# (Método transformada inversa visto en clases pasadas)\n",
    "# Método montecarlo estándar \n",
    "montecarlo_standar = st.cosine.ppf(np.random.rand(N),loc2,scale2)\n",
    "plt.figure(figsize=(10,8))\n",
    "plt.hist(montecarlo_standar,30,density=True,color='mediumaquamarine')\n",
    "plt.title('Montecarlo estándar')\n",
    "plt.show()\n",
    "\n",
    "# Método muestreo estratificado (B estratos)\n",
    "B = N\n",
    "U2 = np.random.rand(B)\n",
    "i = np.arange(0,B)\n",
    "v = (U2+i)/B\n",
    "m_estratificado = st.cosine.ppf(v)\n",
    "\n",
    "plt.figure(figsize=(10,8))\n",
    "plt.hist(m_estratificado,30,density=True,color='lightseagreen')\n",
    "plt.title('Muestreo estratificado')\n",
    "plt.show()"
   ]
  },
  {
   "cell_type": "markdown",
   "metadata": {},
   "source": [
    "> De esta manera, se puede observar en ambos casos una distribución más clara."
   ]
  },
  {
   "cell_type": "markdown",
   "metadata": {},
   "source": [
    "### Total de muertes (Nodo2)"
   ]
  },
  {
   "cell_type": "code",
   "execution_count": null,
   "metadata": {},
   "outputs": [],
   "source": [
    "usa_muertes = pd.DataFrame(data['total_deaths'])\n",
    "usa_muertes_antes = usa_muertes.loc['22/01/2020':'31/12/2020']\n",
    "\n",
    "#2020\n",
    "usa_muertes_antes.plot(figsize=[10,5])\n",
    "plt.ylabel('Total muertes')\n",
    "plt.title('Muertes EUA 2020')\n",
    "#2020-2021\n",
    "usa_muertes.plot(figsize=[10,5])\n",
    "plt.ylabel('Total muertes')\n",
    "plt.title('Muertes EUA 2020-2021')\n"
   ]
  },
  {
   "cell_type": "markdown",
   "metadata": {},
   "source": [
    "### **Distribuciones de probabilidad**"
   ]
  },
  {
   "cell_type": "code",
   "execution_count": null,
   "metadata": {},
   "outputs": [],
   "source": [
    "#USA MUERTES 2020\n",
    "usam_a = usa_muertes_antes[usa_muertes_antes['total_deaths'] !=0]\n",
    "vma_data = log_int(usam_a)\n",
    "dist_to = ['dweibull','gennorm','weibull_max','argus','loggamma','cauchy','dgamma','burr']\n",
    "error = []\n",
    "\n",
    "fig, ax = plt.subplots(figsize=(8,6))\n",
    "ax.set_title('Funciones de densidad de probabilidad',size=15)\n",
    "ax.set_xlim(6, 13)\n",
    "[y, x, _] = ax.hist(vma_data, bins=30, density=True, label='total_cases_2020',fc='lightgray')\n",
    "x = x[1:]\n",
    "\n",
    "for dist in dist_to:\n",
    "    param = getattr(st,dist).fit(vma_data)\n",
    "    \n",
    "    pdf = getattr(st, dist).pdf(x, *param)\n",
    "    \n",
    "    ax.plot(x,pdf,linewidth=3,label='pdf = '+ str(dist))\n",
    "    plt.legend(bbox_to_anchor=(1.05, 1), loc='upper left', borderaxespad=0.);\n",
    "    \n",
    "    error.append(((y-pdf)**2).mean())\n",
    "\n",
    "dma=pd.DataFrame(list(zip(dist_to,error)), columns=['Distribución','Error'])\n",
    "    \n",
    "dma"
   ]
  },
  {
   "cell_type": "code",
   "execution_count": null,
   "metadata": {},
   "outputs": [],
   "source": [
    "#La que mejor se ajusta 2020\n",
    "bestm_a = dma.sort_values(by = 'Error')\n",
    "best11 = bestm_a['Distribución']\n",
    "best11"
   ]
  },
  {
   "cell_type": "markdown",
   "metadata": {},
   "source": [
    "Las distribuciones con menor error son:\n",
    "1. gennorm\n",
    "2. cauchy\n",
    "3. dgamma"
   ]
  },
  {
   "cell_type": "markdown",
   "metadata": {},
   "source": [
    "**FITTER**"
   ]
  },
  {
   "cell_type": "code",
   "execution_count": null,
   "metadata": {},
   "outputs": [],
   "source": [
    "##2020\n",
    "warnings.filterwarnings(\"ignore\")\n",
    "\n",
    "fitter3 = Fitter(vma_data)\n",
    "fitter3.fit()\n",
    "fitter3.summary()"
   ]
  },
  {
   "cell_type": "code",
   "execution_count": null,
   "metadata": {},
   "outputs": [],
   "source": [
    "dist_fitter3 = list(fitter3.get_best().keys())[0]\n",
    "dist_fitter3"
   ]
  },
  {
   "cell_type": "code",
   "execution_count": null,
   "metadata": {},
   "outputs": [],
   "source": [
    "grafica_qq_1(vma_data, dist_fitter3)"
   ]
  },
  {
   "cell_type": "code",
   "execution_count": null,
   "metadata": {},
   "outputs": [],
   "source": [
    "#USA MUERTES 2020-2021\n",
    "usam = usa_muertes[usa_muertes['total_deaths'] !=0]\n",
    "vm_data = log_int(usam)\n",
    "dist_to = ['johnsonsu','powerlaw','argus','genlogistic','loggamma','dweibull','gumbel_l','burr']\n",
    "error = []\n",
    "\n",
    "fig, ax = plt.subplots(figsize=(8,6))\n",
    "ax.set_title('Funciones de densidad de probabilidad',size=15)\n",
    "ax.set_xlim(6, 13.5)\n",
    "[y, x, _] = ax.hist(vm_data, bins=30, density=True, label='total_cases_2020',fc='lightgray')\n",
    "x = x[1:]\n",
    "\n",
    "for dist in dist_to:\n",
    "    param = getattr(st,dist).fit(vm_data)\n",
    "    \n",
    "    pdf = getattr(st, dist).pdf(x, *param)\n",
    "    \n",
    "    ax.plot(x,pdf,linewidth=3,label='pdf = '+ str(dist))\n",
    "    plt.legend(bbox_to_anchor=(1.05, 1), loc='upper left', borderaxespad=0.);\n",
    "    \n",
    "    error.append(((y-pdf)**2).mean())\n",
    "\n",
    "dm=pd.DataFrame(list(zip(dist_to,error)), columns=['Distribución','Error'])\n",
    "    \n",
    "dm"
   ]
  },
  {
   "cell_type": "code",
   "execution_count": null,
   "metadata": {
    "scrolled": true
   },
   "outputs": [],
   "source": [
    "#La que mejor se ajusta 2020-2021\n",
    "bestm = dm.sort_values(by = 'Error')\n",
    "best12 = bestm['Distribución']\n",
    "best12"
   ]
  },
  {
   "cell_type": "markdown",
   "metadata": {},
   "source": [
    "Las distribuciones con menor error son:\n",
    "1. genlogistic\n",
    "2. loggamma\n",
    "3. powerlaw"
   ]
  },
  {
   "cell_type": "markdown",
   "metadata": {},
   "source": [
    "**FITTER**"
   ]
  },
  {
   "cell_type": "code",
   "execution_count": null,
   "metadata": {},
   "outputs": [],
   "source": [
    "##2020-2021\n",
    "warnings.filterwarnings(\"ignore\")\n",
    "\n",
    "fitter4 = Fitter(vm_data)\n",
    "fitter4.fit()\n",
    "fitter4.summary()"
   ]
  },
  {
   "cell_type": "code",
   "execution_count": null,
   "metadata": {},
   "outputs": [],
   "source": [
    "dist_fitter4 = list(fitter4.get_best().keys())[0]\n",
    "dist_fitter4"
   ]
  },
  {
   "cell_type": "code",
   "execution_count": null,
   "metadata": {},
   "outputs": [],
   "source": [
    "grafica_qq_1(vm_data, dist_fitter4)"
   ]
  },
  {
   "cell_type": "markdown",
   "metadata": {},
   "source": [
    "### **Ajuste de distribuciones**\n",
    "### Q-Q"
   ]
  },
  {
   "cell_type": "code",
   "execution_count": null,
   "metadata": {},
   "outputs": [],
   "source": [
    "##2020\n",
    "\n",
    "\n",
    "measurements = vma_data\n",
    "# Histograma de las variables creadas\n",
    "divisiones = 50 # Cantidad de barras en el histograma\n",
    "fig, ax = plt.subplots(3,1, figsize=(8,10))\n",
    "fig.tight_layout(pad=3.0)\n",
    "\n",
    "ax[0].hist(measurements,divisiones,density=True)\n",
    "\n",
    "# Función de distribución de probabilidad la cual creemos que mis datos distribuyen \n",
    "# RECORDAR: SÓLO FUNCIONA PARA DISTRIBUCIONES CONTINUAS\n",
    "dist = 'johnsonsu'\n",
    "params = getattr(st, dist).fit(measurements)\n",
    "\n",
    "# Graficar PDF de la distribución que queremos probar\n",
    "\n",
    "x = np.arange(measurements.min(), measurements.max(), .00001)\n",
    "y = getattr(st, dist).pdf(x, *params)\n",
    "ax[0].plot(x,y,'r--')\n",
    "ax[0].set_ylabel('Probability')\n",
    "ax[0].grid()\n",
    "\n",
    "# gráfica de Q-Q entre mis datos y la curva que quiero probar que sigue mi distribución (dist)\n",
    "# Usando scipy\n",
    "grap2 = st.probplot(measurements, dist=dist, sparams=getattr(st, dist).fit(x)[:-2], plot=ax[1], fit=True)\n",
    "ax[1].grid()\n",
    "ax[1].set_title('Usando paquete scipy')\n",
    "\n",
    "grap1 = sm.qqplot(measurements,line='s',ax=ax[2])\n",
    "ax[2].grid()\n",
    "ax[2].set_title('Usando paquete stats')\n",
    "\n",
    "plt.xlabel(f'{dist.title()} theorical quantiles',size=20)\n",
    "plt.ylabel('Data theorical quantiles')\n",
    "plt.show()"
   ]
  },
  {
   "cell_type": "code",
   "execution_count": null,
   "metadata": {},
   "outputs": [],
   "source": [
    "##2020\n",
    "## cauchy ##\n",
    "\n",
    "\n",
    "measurements = vma_data\n",
    "# Histograma de las variables creadas\n",
    "divisiones = 50 # Cantidad de barras en el histograma\n",
    "fig, ax = plt.subplots(3,1, figsize=(8,10))\n",
    "fig.tight_layout(pad=3.0)\n",
    "\n",
    "ax[0].hist(measurements,divisiones,density=True)\n",
    "\n",
    "# Función de distribución de probabilidad la cual creemos que mis datos distribuyen \n",
    "# RECORDAR: SÓLO FUNCIONA PARA DISTRIBUCIONES CONTINUAS\n",
    "dist = 'cauchy'\n",
    "params = getattr(st, dist).fit(measurements)\n",
    "\n",
    "# Graficar PDF de la distribución que queremos probar\n",
    "\n",
    "x = np.arange(measurements.min(), measurements.max(), .001)\n",
    "y = getattr(st, dist).pdf(x, *params)\n",
    "ax[0].plot(x,y,'r--')\n",
    "ax[0].set_ylabel('Probability')\n",
    "ax[0].grid()\n",
    "\n",
    "# gráfica de Q-Q entre mis datos y la curva que quiero probar que sigue mi distribución (dist)\n",
    "# Usando scipy\n",
    "grap2 = st.probplot(measurements, dist=dist, sparams=getattr(st, dist).fit(x)[:-2], plot=ax[1], fit=True)\n",
    "ax[1].grid()\n",
    "ax[1].set_title('Usando paquete scipy')\n",
    "\n",
    "grap1 = sm.qqplot(measurements,line='s',ax=ax[2])\n",
    "ax[2].grid()\n",
    "ax[2].set_title('Usando paquete stats')\n",
    "\n",
    "plt.xlabel(f'{dist.title()} theorical quantiles',size=20)\n",
    "plt.ylabel('Data theorical quantiles')\n",
    "plt.show()"
   ]
  },
  {
   "cell_type": "code",
   "execution_count": null,
   "metadata": {},
   "outputs": [],
   "source": [
    "##2020\n",
    "\n",
    "\n",
    "measurements = vma_data\n",
    "# Histograma de las variables creadas\n",
    "divisiones = 50 # Cantidad de barras en el histograma\n",
    "fig, ax = plt.subplots(3,1, figsize=(8,10))\n",
    "fig.tight_layout(pad=3.0)\n",
    "\n",
    "ax[0].hist(measurements,divisiones,density=True)\n",
    "\n",
    "# Función de distribución de probabilidad la cual creemos que mis datos distribuyen \n",
    "# RECORDAR: SÓLO FUNCIONA PARA DISTRIBUCIONES CONTINUAS\n",
    "dist = 't'\n",
    "params = getattr(st, dist).fit(measurements)\n",
    "\n",
    "# Graficar PDF de la distribución que queremos probar\n",
    "\n",
    "x = np.arange(measurements.min(), measurements.max(), .0001)\n",
    "y = getattr(st, dist).pdf(x, *params)\n",
    "ax[0].plot(x,y,'r--')\n",
    "ax[0].set_ylabel('Probability')\n",
    "ax[0].grid()\n",
    "\n",
    "# gráfica de Q-Q entre mis datos y la curva que quiero probar que sigue mi distribución (dist)\n",
    "# Usando scipy\n",
    "grap2 = st.probplot(measurements, dist=dist, sparams=getattr(st, dist).fit(x)[:-2], plot=ax[1], fit=True)\n",
    "ax[1].grid()\n",
    "ax[1].set_title('Usando paquete scipy')\n",
    "\n",
    "grap1 = sm.qqplot(measurements,line='s',ax=ax[2])\n",
    "ax[2].grid()\n",
    "ax[2].set_title('Usando paquete stats')\n",
    "\n",
    "plt.xlabel(f'{dist.title()} theorical quantiles',size=20)\n",
    "plt.ylabel('Data theorical quantiles')\n",
    "plt.show()"
   ]
  },
  {
   "cell_type": "markdown",
   "metadata": {},
   "source": [
    "> Obervando de igual manera las gráficas, ninguna se ajusta adecuadamente sin embargo la más cercana sería dgamma para las muertes del 2020."
   ]
  },
  {
   "cell_type": "markdown",
   "metadata": {},
   "source": [
    "**2020-2021**"
   ]
  },
  {
   "cell_type": "code",
   "execution_count": null,
   "metadata": {},
   "outputs": [],
   "source": [
    "##2020-2021\n",
    "## pearson3 ##\n",
    "\n",
    "\n",
    "measurements = vm_data\n",
    "# Histograma de las variables creadas\n",
    "divisiones = 50 # Cantidad de barras en el histograma\n",
    "fig, ax = plt.subplots(3,1, figsize=(8,10))\n",
    "fig.tight_layout(pad=3.0)\n",
    "\n",
    "ax[0].hist(measurements,divisiones,density=True)\n",
    "\n",
    "# Función de distribución de probabilidad la cual creemos que mis datos distribuyen \n",
    "# RECORDAR: SÓLO FUNCIONA PARA DISTRIBUCIONES CONTINUAS\n",
    "dist = 'pearson3'\n",
    "params = getattr(st, dist).fit(measurements)\n",
    "\n",
    "# Graficar PDF de la distribución que queremos probar\n",
    "\n",
    "x = np.arange(measurements.min(), measurements.max(), .001)\n",
    "y = getattr(st, dist).pdf(x, *params)\n",
    "ax[0].plot(x,y,'r--')\n",
    "ax[0].set_ylabel('Probability')\n",
    "ax[0].grid()\n",
    "\n",
    "# gráfica de Q-Q entre mis datos y la curva que quiero probar que sigue mi distribución (dist)\n",
    "# Usando scipy\n",
    "grap2 = st.probplot(measurements, dist=dist, sparams=getattr(st, dist).fit(x)[:-2], plot=ax[1], fit=True)\n",
    "ax[1].grid()\n",
    "ax[1].set_title('Usando paquete scipy')\n",
    "\n",
    "grap1 = sm.qqplot(measurements,line='s',ax=ax[2])\n",
    "ax[2].grid()\n",
    "ax[2].set_title('Usando paquete stats')\n",
    "\n",
    "plt.xlabel(f'{dist.title()} theorical quantiles',size=20)\n",
    "plt.ylabel('Data theorical quantiles')\n",
    "plt.show()"
   ]
  },
  {
   "cell_type": "code",
   "execution_count": null,
   "metadata": {},
   "outputs": [],
   "source": [
    "##2020-2021\n",
    "## johnsonsb ##\n",
    "\n",
    "\n",
    "measurements = vm_data\n",
    "# Histograma de las variables creadas\n",
    "divisiones = 50 # Cantidad de barras en el histograma\n",
    "fig, ax = plt.subplots(3,1, figsize=(8,10))\n",
    "fig.tight_layout(pad=3.0)\n",
    "\n",
    "ax[0].hist(measurements,divisiones,density=True)\n",
    "\n",
    "# Función de distribución de probabilidad la cual creemos que mis datos distribuyen \n",
    "# RECORDAR: SÓLO FUNCIONA PARA DISTRIBUCIONES CONTINUAS\n",
    "dist = 'johnsonsb'\n",
    "params = getattr(st, dist).fit(measurements)\n",
    "\n",
    "# Graficar PDF de la distribución que queremos probar\n",
    "\n",
    "x = np.arange(measurements.min(), measurements.max(), .001)\n",
    "y = getattr(st, dist).pdf(x, *params)\n",
    "ax[0].plot(x,y,'r--')\n",
    "ax[0].set_ylabel('Probability')\n",
    "ax[0].grid()\n",
    "\n",
    "# gráfica de Q-Q entre mis datos y la curva que quiero probar que sigue mi distribución (dist)\n",
    "# Usando scipy\n",
    "grap2 = st.probplot(measurements, dist=dist, sparams=getattr(st, dist).fit(x)[:-2], plot=ax[1], fit=True)\n",
    "ax[1].grid()\n",
    "ax[1].set_title('Usando paquete scipy')\n",
    "\n",
    "grap1 = sm.qqplot(measurements,line='s',ax=ax[2])\n",
    "ax[2].grid()\n",
    "ax[2].set_title('Usando paquete stats')\n",
    "\n",
    "plt.xlabel(f'{dist.title()} theorical quantiles',size=20)\n",
    "plt.ylabel('Data theorical quantiles')\n",
    "plt.show()"
   ]
  },
  {
   "cell_type": "code",
   "execution_count": null,
   "metadata": {},
   "outputs": [],
   "source": [
    "##2020-2021\n",
    "## beta ##\n",
    "\n",
    "\n",
    "measurements = vm_data\n",
    "# Histograma de las variables creadas\n",
    "divisiones = 50 # Cantidad de barras en el histograma\n",
    "fig, ax = plt.subplots(3,1, figsize=(8,10))\n",
    "fig.tight_layout(pad=3.0)\n",
    "\n",
    "ax[0].hist(measurements,divisiones,density=True)\n",
    "\n",
    "# Función de distribución de probabilidad la cual creemos que mis datos distribuyen \n",
    "# RECORDAR: SÓLO FUNCIONA PARA DISTRIBUCIONES CONTINUAS\n",
    "dist = 'beta'\n",
    "params = getattr(st, dist).fit(measurements)\n",
    "\n",
    "# Graficar PDF de la distribución que queremos probar\n",
    "\n",
    "x = np.arange(measurements.min(), measurements.max(), .001)\n",
    "y = getattr(st, dist).pdf(x, *params)\n",
    "ax[0].plot(x,y,'r--')\n",
    "ax[0].set_ylabel('Probability')\n",
    "ax[0].grid()\n",
    "\n",
    "# gráfica de Q-Q entre mis datos y la curva que quiero probar que sigue mi distribución (dist)\n",
    "# Usando scipy\n",
    "grap2 = st.probplot(measurements, dist=dist, sparams=getattr(st, dist).fit(x)[:-2], plot=ax[1], fit=True)\n",
    "ax[1].grid()\n",
    "ax[1].set_title('Usando paquete scipy')\n",
    "\n",
    "grap1 = sm.qqplot(measurements,line='s',ax=ax[2])\n",
    "ax[2].grid()\n",
    "ax[2].set_title('Usando paquete stats')\n",
    "\n",
    "plt.xlabel(f'{dist.title()} theorical quantiles',size=20)\n",
    "plt.ylabel('Data theorical quantiles')\n",
    "plt.show()"
   ]
  },
  {
   "cell_type": "markdown",
   "metadata": {},
   "source": [
    "> Obervando de igual manera las gráficas, ninguna se ajusta adecuadamente sin embargo la más cercana sería genlogistic para las muertes del 2020-2021."
   ]
  },
  {
   "cell_type": "markdown",
   "metadata": {},
   "source": [
    "### CHI cuadrada con histogramas\n"
   ]
  },
  {
   "cell_type": "code",
   "execution_count": null,
   "metadata": {},
   "outputs": [],
   "source": [
    "MA = 30\n",
    "y, x, _ = plt.hist(vma_data, bins = MA, density = True, label = 'Datos')\n",
    "x = x[1:]\n",
    "plt.legend(loc = 'best')"
   ]
  },
  {
   "cell_type": "code",
   "execution_count": null,
   "metadata": {},
   "outputs": [],
   "source": [
    "#2020 Muertes\n",
    "chi_cuadrada(best11[1],vma_data,x,y,MA,0.95)"
   ]
  },
  {
   "cell_type": "code",
   "execution_count": null,
   "metadata": {},
   "outputs": [],
   "source": [
    "#2020-2021\n",
    "M = 20\n",
    "y, x, _ = plt.hist(vm_data, bins = M, density = True, label = 'Datos')\n",
    "x = x[1:]\n",
    "plt.legend(loc = 'best')"
   ]
  },
  {
   "cell_type": "code",
   "execution_count": null,
   "metadata": {},
   "outputs": [],
   "source": [
    "#2020-2021\n",
    "chi_cuadrada(best12[3],vm_data,x,y,M,0.95)"
   ]
  },
  {
   "cell_type": "markdown",
   "metadata": {},
   "source": [
    "### KDE"
   ]
  },
  {
   "cell_type": "code",
   "execution_count": null,
   "metadata": {},
   "outputs": [],
   "source": [
    "#bandwith adecuado 2020\n",
    "bd3 = get_bandwidth(vma_data, .1, 1, 30).pop('bandwidth')\n",
    "bd3"
   ]
  },
  {
   "cell_type": "code",
   "execution_count": null,
   "metadata": {},
   "outputs": [],
   "source": [
    "#2020 muertes\n",
    "xma = np.linspace(np.amin(vma_data), np.amax(vma_data), 1000)\n",
    "fma = kde_hist_f_u(vma_data,bd3, MA, xma)"
   ]
  },
  {
   "cell_type": "code",
   "execution_count": null,
   "metadata": {},
   "outputs": [],
   "source": [
    "#bandwith adecuado 2020-2021\n",
    "bd4 = get_bandwidth(vm_data, .1, 1, 30).pop('bandwidth')\n",
    "bd4"
   ]
  },
  {
   "cell_type": "code",
   "execution_count": null,
   "metadata": {},
   "outputs": [],
   "source": [
    "#2020-2021 muertes\n",
    "xm = np.linspace(np.amin(vm_data), np.amax(vm_data), 1000)\n",
    "fm = kde_hist_f_u(vm_data,bd4, M, xm)"
   ]
  },
  {
   "cell_type": "markdown",
   "metadata": {},
   "source": [
    "### **Aceptación y rechazo con reducción de varianzas**"
   ]
  },
  {
   "cell_type": "code",
   "execution_count": null,
   "metadata": {},
   "outputs": [],
   "source": [
    "#2020\n",
    "v_a_muertes1 = generar_aleatorias_reducc_var(600,fma,12,xma,vma_data,estra_igualmente_espaciado,600)\n",
    "v_a_muertes1"
   ]
  },
  {
   "cell_type": "code",
   "execution_count": null,
   "metadata": {},
   "outputs": [],
   "source": [
    "#2020-2021\n",
    "v_a_muertes2 = generar_aleatorias_reducc_var(600,fm,9,xm,vm_data,estra_igualmente_espaciado,600)\n",
    "v_a_muertes2"
   ]
  },
  {
   "cell_type": "markdown",
   "metadata": {},
   "source": [
    "### **Montecarlo y muestreo estratificado**\n"
   ]
  },
  {
   "cell_type": "code",
   "execution_count": null,
   "metadata": {},
   "outputs": [],
   "source": [
    "#2020\n",
    "params = st.dgamma.fit(vma_data)\n",
    "# Separate parts of parameters\n",
    "arg3 = params[:-2]\n",
    "loc3 = params[-2]\n",
    "scale3 = params[-1]\n"
   ]
  },
  {
   "cell_type": "code",
   "execution_count": null,
   "metadata": {},
   "outputs": [],
   "source": [
    "#2020\n",
    "N = 500\n",
    "# (Método transformada inversa visto en clases pasadas)\n",
    "# Método montecarlo estándar \n",
    "montecarlo_standar = st.cosine.ppf(np.random.rand(N),loc3,scale3)\n",
    "plt.figure(figsize=(10,8))\n",
    "plt.hist(montecarlo_standar,30,density=True,color='mediumaquamarine')\n",
    "plt.title('Montecarlo estándar')\n",
    "plt.show()\n",
    "\n",
    "# Método muestreo estratificado (B estratos)\n",
    "B = N\n",
    "U2 = np.random.rand(B)\n",
    "i = np.arange(0,B)\n",
    "v = (U2+i)/B\n",
    "m_estratificado = st.cosine.ppf(v)\n",
    "\n",
    "plt.figure(figsize=(10,8))\n",
    "plt.hist(m_estratificado,30,density=True,color='lightseagreen')\n",
    "plt.title('Muestreo estratificado')\n",
    "plt.show()"
   ]
  },
  {
   "cell_type": "code",
   "execution_count": null,
   "metadata": {},
   "outputs": [],
   "source": [
    "#2020-2021\n",
    "params = st.laplace.fit(vm_data)\n",
    "# Separate parts of parameters\n",
    "arg4 = params[:-2]\n",
    "loc4 = params[-2]\n",
    "scale4 = params[-1]\n",
    "\n"
   ]
  },
  {
   "cell_type": "code",
   "execution_count": null,
   "metadata": {},
   "outputs": [],
   "source": [
    "#2020\n",
    "N = 500\n",
    "# (Método transformada inversa visto en clases pasadas)\n",
    "# Método montecarlo estándar \n",
    "montecarlo_standar = st.cosine.ppf(np.random.rand(N),loc4,scale4)\n",
    "plt.figure(figsize=(10,8))\n",
    "plt.hist(montecarlo_standar,30,density=True,color='mediumaquamarine')\n",
    "plt.title('Montecarlo estándar')\n",
    "plt.show()\n",
    "\n",
    "# Método muestreo estratificado (B estratos)\n",
    "B = N\n",
    "U2 = np.random.rand(B)\n",
    "i = np.arange(0,B)\n",
    "v = (U2+i)/B\n",
    "m_estratificado = st.cosine.ppf(v)\n",
    "\n",
    "plt.figure(figsize=(10,8))\n",
    "plt.hist(m_estratificado,30,density=True,color='lightseagreen')\n",
    "plt.title('Muestreo estratificado')\n",
    "plt.show()"
   ]
  },
  {
   "cell_type": "markdown",
   "metadata": {},
   "source": [
    "> De esta manera, se puede observar en ambos casos una distribución más clara."
   ]
  },
  {
   "cell_type": "markdown",
   "metadata": {},
   "source": [
    "### Pacientes hospitalizados (Nodo3)"
   ]
  },
  {
   "cell_type": "code",
   "execution_count": null,
   "metadata": {},
   "outputs": [],
   "source": [
    "usa_hosp = pd.DataFrame(data['hosp_patients'])\n",
    "usa_hosp_antes = usa_hosp.loc['22/01/2020':'31/12/2020']\n",
    "\n",
    "hosp = usa_hosp[usa_hosp['hosp_patients'] !=0]\n",
    "hosp1 = usa_hosp_antes[usa_hosp_antes['hosp_patients'] != 0 ]\n",
    "\n",
    "\n",
    "usa_hosp_antes = usa_hosp.loc['22/01/2020':'31/12/2020']\n",
    "\n",
    "#2020\n",
    "hosp1.plot(figsize=[10,5])\n",
    "plt.ylabel('Total pacientes hospitalizados')\n",
    "plt.title('Pacientes hospitalizados EUA 2020')\n",
    "#2020-2021\n",
    "hosp.plot(figsize=[12,6])\n",
    "plt.ylabel('Total pacientes hospitalizados')\n",
    "plt.title('Pacientes hospitalizados EUA 2020-2021')\n"
   ]
  },
  {
   "cell_type": "markdown",
   "metadata": {},
   "source": [
    "### Distribuciones de probabilidad"
   ]
  },
  {
   "cell_type": "code",
   "execution_count": null,
   "metadata": {},
   "outputs": [],
   "source": [
    "#Hospitalizados 2020\n",
    "v3_data = log_int(hosp1)\n",
    "dist_to = ['johnsonsb','powerlaw','gengamma','gengamma','expon','bradford','gausshyper','genexpon','nakagami']\n",
    "error = []\n",
    "\n",
    "fig, ax = plt.subplots(figsize=(8,6))\n",
    "ax.set_title('Funciones de densidad de probabilidad',size=15)\n",
    "ax.set_xlim(10, 12)\n",
    "[y, x, _] = ax.hist(v3_data, bins=20, density=True, label='total_hosp_2020',fc='lightgray')\n",
    "x = x[1:]\n",
    "\n",
    "for dist in dist_to:\n",
    "    param = getattr(st,dist).fit(v3_data)\n",
    "    \n",
    "    pdf = getattr(st, dist).pdf(x, *param)\n",
    "    \n",
    "    ax.plot(x,pdf,linewidth=3,label='pdf = '+ str(dist))\n",
    "    plt.legend(bbox_to_anchor=(1.05, 1), loc='upper left', borderaxespad=0.);\n",
    "    \n",
    "    error.append(((y-pdf)**2).mean())\n",
    "\n",
    "dha=pd.DataFrame(list(zip(dist_to,error)), columns=['Distribución','Error'])\n",
    "    \n",
    "dha\n"
   ]
  },
  {
   "cell_type": "code",
   "execution_count": null,
   "metadata": {},
   "outputs": [],
   "source": [
    "#La que mejor se ajusta 2020\n",
    "best_h = dha.sort_values(by = 'Error')\n",
    "best_h0 = best_h['Distribución']\n",
    "best_h0"
   ]
  },
  {
   "cell_type": "markdown",
   "metadata": {},
   "source": [
    "> Observamos que las tres distribuciones de menor error son:\n",
    "1. johnsonsb\n",
    "2. gausshyper\n",
    "3. nakagami"
   ]
  },
  {
   "cell_type": "markdown",
   "metadata": {},
   "source": [
    "**FITTER**"
   ]
  },
  {
   "cell_type": "code",
   "execution_count": null,
   "metadata": {},
   "outputs": [],
   "source": [
    "##2020\n",
    "warnings.filterwarnings(\"ignore\")\n",
    "\n",
    "fitter5 = Fitter(v3_data)\n",
    "fitter5.fit()\n",
    "fitter5.summary()"
   ]
  },
  {
   "cell_type": "code",
   "execution_count": null,
   "metadata": {},
   "outputs": [],
   "source": [
    "dist_fitter5 = list(fitter5.get_best().keys())[0]\n",
    "dist_fitter5"
   ]
  },
  {
   "cell_type": "code",
   "execution_count": null,
   "metadata": {},
   "outputs": [],
   "source": [
    "grafica_qq_1(v3_data, dist_fitter5)"
   ]
  },
  {
   "cell_type": "code",
   "execution_count": null,
   "metadata": {},
   "outputs": [],
   "source": [
    "#Hospitalizados 2020-2021\n",
    "v4_data = log_int(hosp)\n",
    "dist_to = ['laplace','burr12','dgamma','foldcauchy','cauchy','loglaplace','burr','dweibull','laplace_asymmetric']\n",
    "error = []\n",
    "\n",
    "fig, ax = plt.subplots(figsize=(8,6))\n",
    "ax.set_title('Funciones de densidad de probabilidad',size=15)\n",
    "ax.set_xlim(9.5, 11.5)\n",
    "[y, x, _] = ax.hist(v4_data, bins=20, density=True, label='total_hosp_2020',fc='lightgray')\n",
    "x = x[1:]\n",
    "\n",
    "for dist in dist_to:\n",
    "    param = getattr(st,dist).fit(v4_data)\n",
    "    \n",
    "    pdf = getattr(st, dist).pdf(x, *param)\n",
    "    \n",
    "    ax.plot(x,pdf,linewidth=3,label='pdf = '+ str(dist))\n",
    "    plt.legend(bbox_to_anchor=(1.05, 1), loc='upper left', borderaxespad=0.);\n",
    "    \n",
    "    error.append(((y-pdf)**2).mean())\n",
    "\n",
    "dh=pd.DataFrame(list(zip(dist_to,error)), columns=['Distribución','Error'])\n",
    "    \n",
    "dh\n"
   ]
  },
  {
   "cell_type": "code",
   "execution_count": null,
   "metadata": {},
   "outputs": [],
   "source": [
    "#La que mejor se ajusta 2020-2021\n",
    "best_h1 = dh.sort_values(by = 'Error')\n",
    "best_h01 = best_h1['Distribución']\n",
    "best_h01"
   ]
  },
  {
   "cell_type": "markdown",
   "metadata": {},
   "source": [
    "> Observamos que las tres distribuciones de menor error son:\n",
    "1. foldcauchy\n",
    "2. cauchy\n",
    "3. dgamma"
   ]
  },
  {
   "cell_type": "markdown",
   "metadata": {},
   "source": [
    "**FITTER**"
   ]
  },
  {
   "cell_type": "code",
   "execution_count": null,
   "metadata": {},
   "outputs": [],
   "source": [
    "##2020-2021\n",
    "warnings.filterwarnings(\"ignore\")\n",
    "\n",
    "fitter6 = Fitter(v4_data)\n",
    "fitter6.fit()\n",
    "fitter6.summary()"
   ]
  },
  {
   "cell_type": "code",
   "execution_count": null,
   "metadata": {},
   "outputs": [],
   "source": [
    "dist_fitter6 = list(fitter6.get_best().keys())[0]\n",
    "dist_fitter6"
   ]
  },
  {
   "cell_type": "code",
   "execution_count": null,
   "metadata": {},
   "outputs": [],
   "source": [
    "grafica_qq_1(v4_data, dist_fitter6)"
   ]
  },
  {
   "cell_type": "markdown",
   "metadata": {},
   "source": [
    "### Ajuste de distribuciones\n",
    "### Q-Q"
   ]
  },
  {
   "cell_type": "code",
   "execution_count": null,
   "metadata": {},
   "outputs": [],
   "source": [
    "##2020\n",
    "## johnsonsb \n",
    "\n",
    "\n",
    "measurements = v3_data\n",
    "# Histograma de las variables creadas\n",
    "divisiones = 50 # Cantidad de barras en el histograma\n",
    "fig, ax = plt.subplots(3,1, figsize=(8,12))\n",
    "fig.tight_layout(pad=3.0)\n",
    "\n",
    "ax[0].hist(measurements,divisiones,density=True)\n",
    "\n",
    "# Función de distribución de probabilidad la cual creemos que mis datos distribuyen \n",
    "# RECORDAR: SÓLO FUNCIONA PARA DISTRIBUCIONES CONTINUAS\n",
    "dist = 'johnsonsb'\n",
    "params = getattr(st, dist).fit(measurements)\n",
    "\n",
    "# Graficar PDF de la distribución que queremos probar\n",
    "\n",
    "x = np.arange(measurements.min(), measurements.max(), .01)\n",
    "y = getattr(st, dist).pdf(x, *params)\n",
    "ax[0].plot(x,y,'r--')\n",
    "ax[0].set_ylabel('Probability')\n",
    "ax[0].grid()\n",
    "\n",
    "# gráfica de Q-Q entre mis datos y la curva que quiero probar que sigue mi distribución (dist)\n",
    "# Usando scipy\n",
    "grap2 = st.probplot(measurements, dist=dist, sparams=getattr(st, dist).fit(x)[:-2], plot=ax[1], fit=True)\n",
    "ax[1].grid()\n",
    "ax[1].set_title('Usando paquete scipy')\n",
    "\n",
    "grap1 = sm.qqplot(measurements,line='s',ax=ax[2])\n",
    "ax[2].grid()\n",
    "ax[2].set_title('Usando paquete stats')\n",
    "\n",
    "plt.xlabel(f'{dist.title()} theorical quantiles',size=10)\n",
    "plt.ylabel('Data theorical quantiles')\n",
    "plt.show()"
   ]
  },
  {
   "cell_type": "code",
   "execution_count": null,
   "metadata": {},
   "outputs": [],
   "source": [
    "##2020\n",
    "## gausshyper\n",
    "\n",
    "\n",
    "measurements = v3_data\n",
    "# Histograma de las variables creadas\n",
    "divisiones = 30 # Cantidad de barras en el histograma\n",
    "fig, ax = plt.subplots(3,1, figsize=(8,12))\n",
    "fig.tight_layout(pad=3.0)\n",
    "\n",
    "ax[0].hist(measurements,divisiones,density=True)\n",
    "\n",
    "# Función de distribución de probabilidad la cual creemos que mis datos distribuyen \n",
    "# RECORDAR: SÓLO FUNCIONA PARA DISTRIBUCIONES CONTINUAS\n",
    "dist = 'gausshyper'\n",
    "params = getattr(st, dist).fit(measurements)\n",
    "\n",
    "# Graficar PDF de la distribución que queremos probar\n",
    "\n",
    "x = np.arange(measurements.min(), measurements.max(), .01)\n",
    "y = getattr(st, dist).pdf(x, *params)\n",
    "ax[0].plot(x,y,'r--')\n",
    "ax[0].set_ylabel('Probability')\n",
    "ax[0].grid()\n",
    "\n",
    "# gráfica de Q-Q entre mis datos y la curva que quiero probar que sigue mi distribución (dist)\n",
    "# Usando scipy\n",
    "grap2 = st.probplot(measurements, dist=dist, sparams=getattr(st, dist).fit(x)[:-2], plot=ax[1], fit=True)\n",
    "ax[1].grid()\n",
    "ax[1].set_title('Usando paquete scipy')\n",
    "\n",
    "grap1 = sm.qqplot(measurements,line='s',ax=ax[2])\n",
    "ax[2].grid()\n",
    "ax[2].set_title('Usando paquete stats')\n",
    "\n",
    "plt.xlabel(f'{dist.title()} theorical quantiles',size=10)\n",
    "plt.ylabel('Data theorical quantiles')\n",
    "plt.show()"
   ]
  },
  {
   "cell_type": "code",
   "execution_count": null,
   "metadata": {},
   "outputs": [],
   "source": [
    "##2020\n",
    "## powerlaw\n",
    "\n",
    "\n",
    "measurements = v3_data\n",
    "# Histograma de las variables creadas\n",
    "divisiones = 50 # Cantidad de barras en el histograma\n",
    "fig, ax = plt.subplots(3,1, figsize=(8,12))\n",
    "fig.tight_layout(pad=3.0)\n",
    "\n",
    "ax[0].hist(measurements,divisiones,density=True)\n",
    "\n",
    "# Función de distribución de probabilidad la cual creemos que mis datos distribuyen \n",
    "# RECORDAR: SÓLO FUNCIONA PARA DISTRIBUCIONES CONTINUAS\n",
    "dist = 'powerlaw'\n",
    "params = getattr(st, dist).fit(measurements)\n",
    "\n",
    "# Graficar PDF de la distribución que queremos probar\n",
    "\n",
    "x = np.arange(measurements.min(), measurements.max(), .01)\n",
    "y = getattr(st, dist).pdf(x, *params)\n",
    "ax[0].plot(x,y,'r--')\n",
    "ax[0].set_ylabel('Probability')\n",
    "ax[0].grid()\n",
    "\n",
    "# gráfica de Q-Q entre mis datos y la curva que quiero probar que sigue mi distribución (dist)\n",
    "# Usando scipy\n",
    "grap2 = st.probplot(measurements, dist=dist, sparams=getattr(st, dist).fit(x)[:-2], plot=ax[1], fit=True)\n",
    "ax[1].grid()\n",
    "ax[1].set_title('Usando paquete scipy')\n",
    "\n",
    "grap1 = sm.qqplot(measurements,line='s',ax=ax[2])\n",
    "ax[2].grid()\n",
    "ax[2].set_title('Usando paquete stats')\n",
    "\n",
    "plt.xlabel(f'{dist.title()} theorical quantiles',size=10)\n",
    "plt.ylabel('Data theorical quantiles')\n",
    "plt.show()"
   ]
  },
  {
   "cell_type": "markdown",
   "metadata": {},
   "source": [
    "**Observamos que la distribución johnsonsb fue la que mejor se adaptó**"
   ]
  },
  {
   "cell_type": "markdown",
   "metadata": {},
   "source": [
    "### 2020-2021"
   ]
  },
  {
   "cell_type": "code",
   "execution_count": null,
   "metadata": {},
   "outputs": [],
   "source": [
    "##2020-2021\n",
    "##foldcauchy##\n",
    "\n",
    "\n",
    "measurements = v4_data\n",
    "# Histograma de las variables creadas\n",
    "divisiones = 50 # Cantidad de barras en el histograma\n",
    "fig, ax = plt.subplots(3,1, figsize=(8,12))\n",
    "fig.tight_layout(pad=3.0)\n",
    "\n",
    "ax[0].hist(measurements,divisiones,density=True)\n",
    "\n",
    "# Función de distribución de probabilidad la cual creemos que mis datos distribuyen \n",
    "# RECORDAR: SÓLO FUNCIONA PARA DISTRIBUCIONES CONTINUAS\n",
    "dist = 'foldcauchy'\n",
    "params = getattr(st, dist).fit(measurements)\n",
    "\n",
    "# Graficar PDF de la distribución que queremos probar\n",
    "\n",
    "x = np.arange(measurements.min(), measurements.max(), .01)\n",
    "y = getattr(st, dist).pdf(x, *params)\n",
    "ax[0].plot(x,y,'r--')\n",
    "ax[0].set_ylabel('Probability')\n",
    "ax[0].grid()\n",
    "\n",
    "# gráfica de Q-Q entre mis datos y la curva que quiero probar que sigue mi distribución (dist)\n",
    "# Usando scipy\n",
    "grap2 = st.probplot(measurements, dist=dist, sparams=getattr(st, dist).fit(x)[:-2], plot=ax[1], fit=True)\n",
    "ax[1].grid()\n",
    "ax[1].set_title('Usando paquete scipy')\n",
    "\n",
    "grap1 = sm.qqplot(measurements,line='s',ax=ax[2])\n",
    "ax[2].grid()\n",
    "ax[2].set_title('Usando paquete stats')\n",
    "\n",
    "plt.xlabel(f'{dist.title()} theorical quantiles',size=10)\n",
    "plt.ylabel('Data theorical quantiles')\n",
    "plt.show()"
   ]
  },
  {
   "cell_type": "code",
   "execution_count": null,
   "metadata": {},
   "outputs": [],
   "source": [
    "##2020-2021\n",
    "##laplace_asymmetric##\n",
    "\n",
    "\n",
    "measurements = v4_data\n",
    "# Histograma de las variables creadas\n",
    "divisiones = 50 # Cantidad de barras en el histograma\n",
    "fig, ax = plt.subplots(3,1, figsize=(8,12))\n",
    "fig.tight_layout(pad=3.0)\n",
    "\n",
    "ax[0].hist(measurements,divisiones,density=True)\n",
    "\n",
    "# Función de distribución de probabilidad la cual creemos que mis datos distribuyen \n",
    "# RECORDAR: SÓLO FUNCIONA PARA DISTRIBUCIONES CONTINUAS\n",
    "dist = 'laplace_asymmetric'\n",
    "params = getattr(st, dist).fit(measurements)\n",
    "\n",
    "# Graficar PDF de la distribución que queremos probar\n",
    "\n",
    "x = np.arange(measurements.min(), measurements.max(), .01)\n",
    "y = getattr(st, dist).pdf(x, *params)\n",
    "ax[0].plot(x,y,'r--')\n",
    "ax[0].set_ylabel('Probability')\n",
    "ax[0].grid()\n",
    "\n",
    "# gráfica de Q-Q entre mis datos y la curva que quiero probar que sigue mi distribución (dist)\n",
    "# Usando scipy\n",
    "grap2 = st.probplot(measurements, dist=dist, sparams=getattr(st, dist).fit(x)[:-2], plot=ax[1], fit=True)\n",
    "ax[1].grid()\n",
    "ax[1].set_title('Usando paquete scipy')\n",
    "\n",
    "grap1 = sm.qqplot(measurements,line='s',ax=ax[2])\n",
    "ax[2].grid()\n",
    "ax[2].set_title('Usando paquete stats')\n",
    "\n",
    "plt.xlabel(f'{dist.title()} theorical quantiles',size=10)\n",
    "plt.ylabel('Data theorical quantiles')\n",
    "plt.show()"
   ]
  },
  {
   "cell_type": "code",
   "execution_count": null,
   "metadata": {},
   "outputs": [],
   "source": [
    "##2020-2021\n",
    "##dgamma##\n",
    "\n",
    "\n",
    "measurements = v4_data\n",
    "# Histograma de las variables creadas\n",
    "divisiones = 50 # Cantidad de barras en el histograma\n",
    "fig, ax = plt.subplots(3,1, figsize=(8,12))\n",
    "fig.tight_layout(pad=3.0)\n",
    "\n",
    "ax[0].hist(measurements,divisiones,density=True)\n",
    "\n",
    "# Función de distribución de probabilidad la cual creemos que mis datos distribuyen \n",
    "# RECORDAR: SÓLO FUNCIONA PARA DISTRIBUCIONES CONTINUAS\n",
    "dist = 'dgamma'\n",
    "params = getattr(st, dist).fit(measurements)\n",
    "\n",
    "# Graficar PDF de la distribución que queremos probar\n",
    "\n",
    "x = np.arange(measurements.min(), measurements.max(), .01)\n",
    "y = getattr(st, dist).pdf(x, *params)\n",
    "ax[0].plot(x,y,'r--')\n",
    "ax[0].set_ylabel('Probability')\n",
    "ax[0].grid()\n",
    "\n",
    "# gráfica de Q-Q entre mis datos y la curva que quiero probar que sigue mi distribución (dist)\n",
    "# Usando scipy\n",
    "grap2 = st.probplot(measurements, dist=dist, sparams=getattr(st, dist).fit(x)[:-2], plot=ax[1], fit=True)\n",
    "ax[1].grid()\n",
    "ax[1].set_title('Usando paquete scipy')\n",
    "\n",
    "grap1 = sm.qqplot(measurements,line='s',ax=ax[2])\n",
    "ax[2].grid()\n",
    "ax[2].set_title('Usando paquete stats')\n",
    "\n",
    "plt.xlabel(f'{dist.title()} theorical quantiles',size=10)\n",
    "plt.ylabel('Data theorical quantiles')\n",
    "plt.show()"
   ]
  },
  {
   "cell_type": "markdown",
   "metadata": {},
   "source": [
    "**Para el caso de 2020-2021 decidimos quedarnos con dgamma**"
   ]
  },
  {
   "cell_type": "markdown",
   "metadata": {},
   "source": [
    "### Histogramas con chi cuadrada"
   ]
  },
  {
   "cell_type": "code",
   "execution_count": null,
   "metadata": {},
   "outputs": [],
   "source": [
    "#2020\n",
    "H1 = 30\n",
    "y, x, _ = plt.hist(v3_data, bins = H1, density = True, label = 'Datos')\n",
    "x = x[1:]\n",
    "plt.legend(loc = 'best')"
   ]
  },
  {
   "cell_type": "code",
   "execution_count": null,
   "metadata": {},
   "outputs": [],
   "source": [
    "#2020\n",
    "chi_cuadrada(best_h0[0],v3_data,x,y,H1,0.95)"
   ]
  },
  {
   "cell_type": "code",
   "execution_count": null,
   "metadata": {},
   "outputs": [],
   "source": [
    "#2020-2021\n",
    "H2 = 30\n",
    "y, x, _ = plt.hist(v4_data, bins = H2, density = True, label = 'Datos')\n",
    "x = x[1:]\n",
    "plt.legend(loc = 'best')"
   ]
  },
  {
   "cell_type": "code",
   "execution_count": null,
   "metadata": {},
   "outputs": [],
   "source": [
    "#2020\n",
    "chi_cuadrada(best_h01[2],v4_data,x,y,H2,0.95)"
   ]
  },
  {
   "cell_type": "markdown",
   "metadata": {},
   "source": [
    "### KDE"
   ]
  },
  {
   "cell_type": "code",
   "execution_count": null,
   "metadata": {},
   "outputs": [],
   "source": [
    "#bandwith adecuado 2020\n",
    "bd5 = get_bandwidth(v3_data, .1, 1, 30).pop('bandwidth')\n",
    "bd5"
   ]
  },
  {
   "cell_type": "code",
   "execution_count": null,
   "metadata": {},
   "outputs": [],
   "source": [
    "#2020\n",
    "xha = np.linspace(np.amin(v3_data), np.amax(v3_data), 1000)\n",
    "f3 = kde_hist_f_u(v3_data,bd5, H1, xha)"
   ]
  },
  {
   "cell_type": "code",
   "execution_count": null,
   "metadata": {},
   "outputs": [],
   "source": [
    "#bandwith adecuado 2020\n",
    "bd6 = get_bandwidth(v4_data, .1, 1, 30).pop('bandwidth')\n",
    "bd6"
   ]
  },
  {
   "cell_type": "code",
   "execution_count": null,
   "metadata": {},
   "outputs": [],
   "source": [
    "#2020-2021\n",
    "xh = np.linspace(np.amin(v4_data), np.amax(v4_data), 1000)\n",
    "f4 = kde_hist_f_u(v4_data,bd6, H2, xh)"
   ]
  },
  {
   "cell_type": "markdown",
   "metadata": {},
   "source": [
    "### Aceptación y rechazo con reducción de varianza (igualmente espaciado)\n"
   ]
  },
  {
   "cell_type": "code",
   "execution_count": null,
   "metadata": {},
   "outputs": [],
   "source": [
    "##2020\n",
    "v_a_hosp = generar_aleatorias_reducc_var(600,f3,10,xha,v3_data,estra_igualmente_espaciado,600)\n",
    "v_a_hosp"
   ]
  },
  {
   "cell_type": "code",
   "execution_count": null,
   "metadata": {},
   "outputs": [],
   "source": [
    "##2020-2021\n",
    "v_a_hosp1 = generar_aleatorias_reducc_var(600,f4,10.5,xh,v4_data,estra_igualmente_espaciado,600)\n",
    "v_a_hosp1"
   ]
  },
  {
   "cell_type": "markdown",
   "metadata": {},
   "source": [
    "### Montecarlo"
   ]
  },
  {
   "cell_type": "code",
   "execution_count": null,
   "metadata": {},
   "outputs": [],
   "source": []
  },
  {
   "cell_type": "code",
   "execution_count": null,
   "metadata": {},
   "outputs": [],
   "source": []
  },
  {
   "cell_type": "markdown",
   "metadata": {},
   "source": [
    "### Total vacunados"
   ]
  },
  {
   "cell_type": "code",
   "execution_count": null,
   "metadata": {},
   "outputs": [],
   "source": [
    "usa_vac = pd.DataFrame(data['total_vaccinations'])\n",
    "usa_vac.plot(figsize=[10,8])"
   ]
  },
  {
   "cell_type": "markdown",
   "metadata": {},
   "source": [
    "### Distribuciones de probabilidad"
   ]
  },
  {
   "cell_type": "code",
   "execution_count": null,
   "metadata": {},
   "outputs": [],
   "source": [
    "usav = usa_vac[usa_vac['total_vaccinations'] !=0].dropna()\n",
    "v5_data = log_int(usav)"
   ]
  },
  {
   "cell_type": "code",
   "execution_count": null,
   "metadata": {},
   "outputs": [],
   "source": [
    "fitterv = Fitter(v5_data)\n",
    "fitterv.fit()\n",
    "fitterv.summary()"
   ]
  },
  {
   "cell_type": "markdown",
   "metadata": {},
   "source": [
    "### **Ajuste de distribuciones**\n",
    "###  **Q-Q**"
   ]
  },
  {
   "cell_type": "code",
   "execution_count": null,
   "metadata": {},
   "outputs": [],
   "source": [
    "## johnsonsb \n",
    "\n",
    "measurements = v5_data\n",
    "# Histograma de las variables creadas\n",
    "divisiones = 50 # Cantidad de barras en el histograma\n",
    "fig, ax = plt.subplots(3,1, figsize=(8,12))\n",
    "fig.tight_layout(pad=3.0)\n",
    "\n",
    "ax[0].hist(measurements,divisiones,density=True)\n",
    "\n",
    "# Función de distribución de probabilidad la cual creemos que mis datos distribuyen \n",
    "# RECORDAR: SÓLO FUNCIONA PARA DISTRIBUCIONES CONTINUAS\n",
    "dist = 'johnsonsb'\n",
    "params = getattr(st, dist).fit(measurements)\n",
    "\n",
    "# Graficar PDF de la distribución que queremos probar\n",
    "\n",
    "x = np.arange(measurements.min(), measurements.max(), .01)\n",
    "y = getattr(st, dist).pdf(x, *params)\n",
    "ax[0].plot(x,y,'r--')\n",
    "ax[0].set_ylabel('Probability')\n",
    "ax[0].grid()\n",
    "\n",
    "# gráfica de Q-Q entre mis datos y la curva que quiero probar que sigue mi distribución (dist)\n",
    "# Usando scipy\n",
    "grap2 = st.probplot(measurements, dist=dist, sparams=getattr(st, dist).fit(x)[:-2], plot=ax[1], fit=True)\n",
    "ax[1].grid()\n",
    "ax[1].set_title('Usando paquete scipy')\n",
    "\n",
    "grap1 = sm.qqplot(measurements,line='s',ax=ax[2])\n",
    "ax[2].grid()\n",
    "ax[2].set_title('Usando paquete stats')\n",
    "\n",
    "plt.xlabel(f'{dist.title()} theorical quantiles',size=10)\n",
    "plt.ylabel('Data theorical quantiles')\n",
    "plt.show()"
   ]
  },
  {
   "cell_type": "code",
   "execution_count": null,
   "metadata": {},
   "outputs": [],
   "source": [
    "## beta \n",
    "\n",
    "measurements = v5_data\n",
    "# Histograma de las variables creadas\n",
    "divisiones = 50 # Cantidad de barras en el histograma\n",
    "fig, ax = plt.subplots(3,1, figsize=(8,12))\n",
    "fig.tight_layout(pad=3.0)\n",
    "\n",
    "ax[0].hist(measurements,divisiones,density=True)\n",
    "\n",
    "# Función de distribución de probabilidad la cual creemos que mis datos distribuyen \n",
    "# RECORDAR: SÓLO FUNCIONA PARA DISTRIBUCIONES CONTINUAS\n",
    "dist = 'beta'\n",
    "params = getattr(st, dist).fit(measurements)\n",
    "\n",
    "# Graficar PDF de la distribución que queremos probar\n",
    "\n",
    "x = np.arange(measurements.min(), measurements.max(), .01)\n",
    "y = getattr(st, dist).pdf(x, *params)\n",
    "ax[0].plot(x,y,'r--')\n",
    "ax[0].set_ylabel('Probability')\n",
    "ax[0].grid()\n",
    "\n",
    "# gráfica de Q-Q entre mis datos y la curva que quiero probar que sigue mi distribución (dist)\n",
    "# Usando scipy\n",
    "grap2 = st.probplot(measurements, dist=dist, sparams=getattr(st, dist).fit(x)[:-2], plot=ax[1], fit=True)\n",
    "ax[1].grid()\n",
    "ax[1].set_title('Usando paquete scipy')\n",
    "\n",
    "grap1 = sm.qqplot(measurements,line='s',ax=ax[2])\n",
    "ax[2].grid()\n",
    "ax[2].set_title('Usando paquete stats')\n",
    "\n",
    "plt.xlabel(f'{dist.title()} theorical quantiles',size=10)\n",
    "plt.ylabel('Data theorical quantiles')\n",
    "plt.show()"
   ]
  },
  {
   "cell_type": "code",
   "execution_count": null,
   "metadata": {},
   "outputs": [],
   "source": [
    "## genextreme \n",
    "\n",
    "measurements = v5_data\n",
    "# Histograma de las variables creadas\n",
    "divisiones = 50 # Cantidad de barras en el histograma\n",
    "fig, ax = plt.subplots(3,1, figsize=(8,12))\n",
    "fig.tight_layout(pad=3.0)\n",
    "\n",
    "ax[0].hist(measurements,divisiones,density=True)\n",
    "\n",
    "# Función de distribución de probabilidad la cual creemos que mis datos distribuyen \n",
    "# RECORDAR: SÓLO FUNCIONA PARA DISTRIBUCIONES CONTINUAS\n",
    "dist = 'genextreme'\n",
    "params = getattr(st, dist).fit(measurements)\n",
    "\n",
    "# Graficar PDF de la distribución que queremos probar\n",
    "\n",
    "x = np.arange(measurements.min(), measurements.max(), .01)\n",
    "y = getattr(st, dist).pdf(x, *params)\n",
    "ax[0].plot(x,y,'r--')\n",
    "ax[0].set_ylabel('Probability')\n",
    "ax[0].grid()\n",
    "\n",
    "# gráfica de Q-Q entre mis datos y la curva que quiero probar que sigue mi distribución (dist)\n",
    "# Usando scipy\n",
    "grap2 = st.probplot(measurements, dist=dist, sparams=getattr(st, dist).fit(x)[:-2], plot=ax[1], fit=True)\n",
    "ax[1].grid()\n",
    "ax[1].set_title('Usando paquete scipy')\n",
    "\n",
    "grap1 = sm.qqplot(measurements,line='s',ax=ax[2])\n",
    "ax[2].grid()\n",
    "ax[2].set_title('Usando paquete stats')\n",
    "\n",
    "plt.xlabel(f'{dist.title()} theorical quantiles',size=10)\n",
    "plt.ylabel('Data theorical quantiles')\n",
    "plt.show()"
   ]
  },
  {
   "cell_type": "markdown",
   "metadata": {},
   "source": [
    "### Histograma con Chi cuadrada"
   ]
  },
  {
   "cell_type": "code",
   "execution_count": null,
   "metadata": {},
   "outputs": [],
   "source": [
    "H1 = 30\n",
    "y, x, _ = plt.hist(v5_data, bins = H1, density = True, label = 'Datos')\n",
    "x = x[1:]\n",
    "plt.legend(loc = 'best')\n",
    "chi_cuadrada(best_h0[0],v5_data,x,y,H1,0.95)"
   ]
  },
  {
   "cell_type": "markdown",
   "metadata": {},
   "source": [
    "### **KDE**"
   ]
  },
  {
   "cell_type": "code",
   "execution_count": null,
   "metadata": {},
   "outputs": [],
   "source": [
    "bd7 = get_bandwidth(v5_data, .1, 1, 30).pop('bandwidth')\n",
    "bd7"
   ]
  },
  {
   "cell_type": "code",
   "execution_count": null,
   "metadata": {},
   "outputs": [],
   "source": [
    "xva = np.linspace(np.amin(v5_data), np.amax(v5_data), 1000)\n",
    "f5 = kde_hist_f_u(v5_data,bd7, H1, xva)"
   ]
  },
  {
   "cell_type": "markdown",
   "metadata": {},
   "source": [
    "### Aceptación y rechazo con reducción de varianza (igualmente espaciado)"
   ]
  },
  {
   "cell_type": "code",
   "execution_count": null,
   "metadata": {},
   "outputs": [],
   "source": [
    "v_a_vac = generar_aleatorias_reducc_var(600,f5,20,xva,v5_data,estra_igualmente_espaciado,600)\n",
    "v_a_vac"
   ]
  },
  {
   "cell_type": "markdown",
   "metadata": {},
   "source": [
    "___\n",
    "## 2. Especificaciones adicionales.\n",
    "En el grupo deben haber mínimo dos integrantes y máximo tres integrantes. Para propósitos logísticos nada más, por favor enumérense como *integrante 1*, *integrante 2* e *integrante 3*.\n",
    "\n",
    "### 2.1 Notebook de jupyter. \n",
    "> Los anteriores numerales los deben desarrollar todos en un notebook de jupyter y llamarlo de la siguiente manera `ProyectoModulo1_ApellidoN1_ApellidoN2_ApellidoN3`, donde `ApellidoNi` hace referencia al apellido materno y la inicial del primer nombre del integrante `i`.\n",
    "\n",
    "### 2.2 Proyecto en `GitHub`.\n",
    "> El integrante 1 deberá crear un proyecto en `GitHub` llamado **proyecto_modulo1**, donde tendrán todos los archivos relacionados con el proyecto. Los demás integrantes deben hacer un *fork* del proyecto, seguir el proyecto principal con `GitKraken` y hacer al menos dos contribuciones con *pull request* (como se hizo en la tarea). En el proyecto, deben incluir el repositorio remoto del integrante 1.\n",
    "\n",
    "### 2.3 Presentación.\n",
    "> Recuerden que la nota del proyecto es mitad el trabajo, y mitad la presentación. Deben hacer una presentación ya sea en power point o utlizando un notebook de python para presentar el trabajo durante un horario de clase que se será posteriomente definido. La presentación, además de llevar todos los componentes básicos descritos en el entregable, debe llevar una tabla de contenido.\n",
    "> - Presentación: 10 minutos.\n",
    "> - Seguir estas recomendaciones: https://es.slideshare.net/MeireComputacion/power-point-pautas-para-una-buen-trabajo"
   ]
  },
  {
   "cell_type": "markdown",
   "metadata": {},
   "source": [
    "<script>\n",
    "  $(document).ready(function(){\n",
    "    $('div.prompt').hide();\n",
    "    $('div.back-to-top').hide();\n",
    "    $('nav#menubar').hide();\n",
    "    $('.breadcrumb').hide();\n",
    "    $('.hidden-print').hide();\n",
    "  });\n",
    "</script>\n",
    "\n",
    "<footer id=\"attribution\" style=\"float:right; color:#808080; background:#fff;\">\n",
    "Created with Jupyter by Esteban Jiménez Rodríguez.\n",
    "</footer>"
   ]
  }
 ],
 "metadata": {
  "kernelspec": {
   "display_name": "Python 3",
   "language": "python",
   "name": "python3"
  },
  "language_info": {
   "codemirror_mode": {
    "name": "ipython",
    "version": 3
   },
   "file_extension": ".py",
   "mimetype": "text/x-python",
   "name": "python",
   "nbconvert_exporter": "python",
   "pygments_lexer": "ipython3",
   "version": "3.8.8"
  }
 },
 "nbformat": 4,
 "nbformat_minor": 2
}
